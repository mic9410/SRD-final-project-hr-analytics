{
 "cells": [
  {
   "cell_type": "markdown",
   "metadata": {},
   "source": [
    "# SRD - Statystyczne Reguły Decyzyjne - Projekt końcowy\n",
    "# HR Analytics Case Study\n",
    "<br>\n",
    "<img src=\"work.jpg\">\n",
    "<br>\n",
    "\n",
    "## Opis problemu\n",
    "Duża firma o nazwie XYZ zatrudnia około 4000 pracowników, jednak każdego roku około 15% z nich odchodzi z firmy i należy zastąpić ich pulą nowych ludzi dostępnych na rynku pracy. Zarząd uważa, że ten poziom osłabienia personelu (odejście pracowników na własną rękę lub dlatego, że zostali zwolnieni) jest niekorzystne dla firmy z następujących powodów:\n",
    "\n",
    "* Projekty byłych pracowników ulegają opóźnieniu, co utrudnia dotrzymanie terminów, a w konsekwencji powoduje utratę reputacji wśród konsumentów i partnerów\n",
    "* Należy utrzymywać sporych rozmiarów dział rekrutacji \n",
    "* Najczęściej nowi pracownicy muszą być przeszkoleni do pracy i / lub mieć czas na aklimatyzację w firmie\n",
    "\n",
    "Dlatego zarząd zawarł umowę z firmą analityczną HR, aby zrozumieć, na jakich czynnikach powinni się skupić, aby ograniczyć odejścia z firmy. Innymi słowy, chcą wiedzieć, jakie zmiany powinny zostać wprowadzone w miejscu pracy, aby większość pracowników została. Ponadto chcą wiedzieć, która z tych zmiennych jest najważniejsza i należy od razu zająć się włąśnie tym czynnikiem.\n",
    "\n",
    "## Cel analizy\n",
    "Należy zamodelować prawdopodobieństwo odejścia pracownika za pomocą regresji logistycznej. Uzyskane w ten sposób wyniki zostaną wykorzystane przez kierownictwo do zrozumienia, jakie zmiany powinni wprowadzić w miejscu pracy, aby większość pracowników pozostała."
   ]
  },
  {
   "cell_type": "markdown",
   "metadata": {},
   "source": [
    "# Analiza zmiennych\n",
    "Przed wyborem odpowiedniego modelu warto napierw przyjrzeć się bliżej zebranym danym. \n",
    "\n",
    "## Employee Survey - wyniki ankiety wśród pracowników\n",
    "**EmployeeID** - id pracownika <br>\n",
    "**EnvironmentSatisfaction** - Poziom zadowolenia ze środowiska pracy w skali od 1 do 4 (1 - 'Niski', 2 - \"Średni\", 3 - \"Wysoki\", 4 - \"Bardzo wysoki\"). <br> \n",
    "**JobSatisfaction** - Satysfakcja, zaangażowanie w wykonywaną pracę w skali od 1 do 4 (1 - 'Niska', 2 - \"Średna\", 3 - \"Wysoka\", 4 - \"Bardzo wysoka\"). <br>\n",
    "**WorkLifeBalance** - Równowaga między życiem prywatnym a zawodowym (1 - 'Zła', 2 - 'Dobra', 3 - 'Bardzo dobra', 4 - 'Doskonała'). <br>"
   ]
  },
  {
   "cell_type": "code",
   "execution_count": 1,
   "metadata": {
    "scrolled": true
   },
   "outputs": [
    {
     "name": "stdout",
     "output_type": "stream",
     "text": [
      "Requirement already satisfied: pandas in /home/michal/anaconda3/lib/python3.7/site-packages (0.25.1)\n",
      "Requirement already satisfied: python-dateutil>=2.6.1 in /home/michal/anaconda3/lib/python3.7/site-packages (from pandas) (2.8.0)\n",
      "Requirement already satisfied: pytz>=2017.2 in /home/michal/anaconda3/lib/python3.7/site-packages (from pandas) (2019.3)\n",
      "Requirement already satisfied: numpy>=1.13.3 in /home/michal/anaconda3/lib/python3.7/site-packages (from pandas) (1.17.2)\n",
      "Requirement already satisfied: six>=1.5 in /home/michal/anaconda3/lib/python3.7/site-packages (from python-dateutil>=2.6.1->pandas) (1.12.0)\n",
      "Requirement already satisfied: numpy in /home/michal/anaconda3/lib/python3.7/site-packages (1.17.2)\n",
      "Requirement already satisfied: matplotlib in /home/michal/anaconda3/lib/python3.7/site-packages (3.1.1)\n",
      "Requirement already satisfied: cycler>=0.10 in /home/michal/anaconda3/lib/python3.7/site-packages (from matplotlib) (0.10.0)\n",
      "Requirement already satisfied: kiwisolver>=1.0.1 in /home/michal/anaconda3/lib/python3.7/site-packages (from matplotlib) (1.1.0)\n",
      "Requirement already satisfied: pyparsing!=2.0.4,!=2.1.2,!=2.1.6,>=2.0.1 in /home/michal/anaconda3/lib/python3.7/site-packages (from matplotlib) (2.4.2)\n",
      "Requirement already satisfied: python-dateutil>=2.1 in /home/michal/anaconda3/lib/python3.7/site-packages (from matplotlib) (2.8.0)\n",
      "Requirement already satisfied: numpy>=1.11 in /home/michal/anaconda3/lib/python3.7/site-packages (from matplotlib) (1.17.2)\n",
      "Requirement already satisfied: six in /home/michal/anaconda3/lib/python3.7/site-packages (from cycler>=0.10->matplotlib) (1.12.0)\n",
      "Requirement already satisfied: setuptools in /home/michal/anaconda3/lib/python3.7/site-packages (from kiwisolver>=1.0.1->matplotlib) (41.4.0)\n",
      "Requirement already satisfied: sklearn in /home/michal/.local/lib/python3.7/site-packages (0.0)\n",
      "Requirement already satisfied: scikit-learn in /home/michal/anaconda3/lib/python3.7/site-packages (from sklearn) (0.21.3)\n",
      "Requirement already satisfied: scipy>=0.17.0 in /home/michal/anaconda3/lib/python3.7/site-packages (from scikit-learn->sklearn) (1.3.1)\n",
      "Requirement already satisfied: numpy>=1.11.0 in /home/michal/anaconda3/lib/python3.7/site-packages (from scikit-learn->sklearn) (1.17.2)\n",
      "Requirement already satisfied: joblib>=0.11 in /home/michal/anaconda3/lib/python3.7/site-packages (from scikit-learn->sklearn) (0.13.2)\n",
      "Requirement already satisfied: scikit-plot in /home/michal/.local/lib/python3.7/site-packages (0.3.7)\n",
      "Requirement already satisfied: matplotlib>=1.4.0 in /home/michal/anaconda3/lib/python3.7/site-packages (from scikit-plot) (3.1.1)\n",
      "Requirement already satisfied: joblib>=0.10 in /home/michal/anaconda3/lib/python3.7/site-packages (from scikit-plot) (0.13.2)\n",
      "Requirement already satisfied: scikit-learn>=0.18 in /home/michal/anaconda3/lib/python3.7/site-packages (from scikit-plot) (0.21.3)\n",
      "Requirement already satisfied: scipy>=0.9 in /home/michal/anaconda3/lib/python3.7/site-packages (from scikit-plot) (1.3.1)\n",
      "Requirement already satisfied: cycler>=0.10 in /home/michal/anaconda3/lib/python3.7/site-packages (from matplotlib>=1.4.0->scikit-plot) (0.10.0)\n",
      "Requirement already satisfied: kiwisolver>=1.0.1 in /home/michal/anaconda3/lib/python3.7/site-packages (from matplotlib>=1.4.0->scikit-plot) (1.1.0)\n",
      "Requirement already satisfied: pyparsing!=2.0.4,!=2.1.2,!=2.1.6,>=2.0.1 in /home/michal/anaconda3/lib/python3.7/site-packages (from matplotlib>=1.4.0->scikit-plot) (2.4.2)\n",
      "Requirement already satisfied: python-dateutil>=2.1 in /home/michal/anaconda3/lib/python3.7/site-packages (from matplotlib>=1.4.0->scikit-plot) (2.8.0)\n",
      "Requirement already satisfied: numpy>=1.11 in /home/michal/anaconda3/lib/python3.7/site-packages (from matplotlib>=1.4.0->scikit-plot) (1.17.2)\n",
      "Requirement already satisfied: six in /home/michal/anaconda3/lib/python3.7/site-packages (from cycler>=0.10->matplotlib>=1.4.0->scikit-plot) (1.12.0)\n",
      "Requirement already satisfied: setuptools in /home/michal/anaconda3/lib/python3.7/site-packages (from kiwisolver>=1.0.1->matplotlib>=1.4.0->scikit-plot) (41.4.0)\n"
     ]
    }
   ],
   "source": [
    "#Importing and installing required packages\n",
    "import sys  \n",
    "!{sys.executable} -m pip install --user pandas\n",
    "!{sys.executable} -m pip install --user numpy\n",
    "!{sys.executable} -m pip install --user matplotlib\n",
    "!{sys.executable} -m pip install --user sklearn\n",
    "!{sys.executable} -m pip install --user scikit-plot"
   ]
  },
  {
   "cell_type": "code",
   "execution_count": 2,
   "metadata": {
    "scrolled": true
   },
   "outputs": [
    {
     "data": {
      "text/html": [
       "<div>\n",
       "<style scoped>\n",
       "    .dataframe tbody tr th:only-of-type {\n",
       "        vertical-align: middle;\n",
       "    }\n",
       "\n",
       "    .dataframe tbody tr th {\n",
       "        vertical-align: top;\n",
       "    }\n",
       "\n",
       "    .dataframe thead th {\n",
       "        text-align: right;\n",
       "    }\n",
       "</style>\n",
       "<table border=\"1\" class=\"dataframe\">\n",
       "  <thead>\n",
       "    <tr style=\"text-align: right;\">\n",
       "      <th></th>\n",
       "      <th>EmployeeID</th>\n",
       "      <th>EnvironmentSatisfaction</th>\n",
       "      <th>JobSatisfaction</th>\n",
       "      <th>WorkLifeBalance</th>\n",
       "    </tr>\n",
       "  </thead>\n",
       "  <tbody>\n",
       "    <tr>\n",
       "      <td>0</td>\n",
       "      <td>1</td>\n",
       "      <td>3.0</td>\n",
       "      <td>4.0</td>\n",
       "      <td>2.0</td>\n",
       "    </tr>\n",
       "    <tr>\n",
       "      <td>1</td>\n",
       "      <td>2</td>\n",
       "      <td>3.0</td>\n",
       "      <td>2.0</td>\n",
       "      <td>4.0</td>\n",
       "    </tr>\n",
       "    <tr>\n",
       "      <td>2</td>\n",
       "      <td>3</td>\n",
       "      <td>2.0</td>\n",
       "      <td>2.0</td>\n",
       "      <td>1.0</td>\n",
       "    </tr>\n",
       "    <tr>\n",
       "      <td>3</td>\n",
       "      <td>4</td>\n",
       "      <td>4.0</td>\n",
       "      <td>4.0</td>\n",
       "      <td>3.0</td>\n",
       "    </tr>\n",
       "    <tr>\n",
       "      <td>4</td>\n",
       "      <td>5</td>\n",
       "      <td>4.0</td>\n",
       "      <td>1.0</td>\n",
       "      <td>3.0</td>\n",
       "    </tr>\n",
       "    <tr>\n",
       "      <td>5</td>\n",
       "      <td>6</td>\n",
       "      <td>3.0</td>\n",
       "      <td>2.0</td>\n",
       "      <td>2.0</td>\n",
       "    </tr>\n",
       "    <tr>\n",
       "      <td>6</td>\n",
       "      <td>7</td>\n",
       "      <td>1.0</td>\n",
       "      <td>3.0</td>\n",
       "      <td>1.0</td>\n",
       "    </tr>\n",
       "    <tr>\n",
       "      <td>7</td>\n",
       "      <td>8</td>\n",
       "      <td>1.0</td>\n",
       "      <td>2.0</td>\n",
       "      <td>3.0</td>\n",
       "    </tr>\n",
       "    <tr>\n",
       "      <td>8</td>\n",
       "      <td>9</td>\n",
       "      <td>2.0</td>\n",
       "      <td>4.0</td>\n",
       "      <td>3.0</td>\n",
       "    </tr>\n",
       "    <tr>\n",
       "      <td>9</td>\n",
       "      <td>10</td>\n",
       "      <td>2.0</td>\n",
       "      <td>1.0</td>\n",
       "      <td>3.0</td>\n",
       "    </tr>\n",
       "  </tbody>\n",
       "</table>\n",
       "</div>"
      ],
      "text/plain": [
       "   EmployeeID  EnvironmentSatisfaction  JobSatisfaction  WorkLifeBalance\n",
       "0           1                      3.0              4.0              2.0\n",
       "1           2                      3.0              2.0              4.0\n",
       "2           3                      2.0              2.0              1.0\n",
       "3           4                      4.0              4.0              3.0\n",
       "4           5                      4.0              1.0              3.0\n",
       "5           6                      3.0              2.0              2.0\n",
       "6           7                      1.0              3.0              1.0\n",
       "7           8                      1.0              2.0              3.0\n",
       "8           9                      2.0              4.0              3.0\n",
       "9          10                      2.0              1.0              3.0"
      ]
     },
     "execution_count": 2,
     "metadata": {},
     "output_type": "execute_result"
    }
   ],
   "source": [
    "import pandas as pd\n",
    "employeeSurvey = pd.read_csv(\"data/employee_survey_data.csv\")\n",
    "employeeSurvey.head(10)"
   ]
  },
  {
   "cell_type": "markdown",
   "metadata": {},
   "source": [
    "## General Data - ogólne informacje na temat pracowników\n",
    "Tabela zawiera 24 kolumny opisujące ogólne informacje na temat pracowników. Są to: \n",
    "- **Age** - wiek pracownika\n",
    "- **Attrition** - Czy pracownik odszedł w poprzednim roku, czy nie (boolean)\n",
    "- **BusinessTravel** - Jak często pracownik podróżował w celach biznesowych w ostatnim roku (\"Nie podróżował\", \"Podróżował rzadko\", \"Podróżował często\")\n",
    "- **Department** -  dział w firmie (Research & Development, Sales, Human Resources)\n",
    "- **DistanceFromHome** - odległość z pracy do domu podana w kilometrach\n",
    "- **Education** - Poziom wykształcenia (wartośc skategoryzowana; 1 - \"Below College\", 2 - \"College\", 3 - \"Bachelor\", 4 - \"Master\", 5 - \"Doctor\")\n",
    "- **EducationField** - Obszar odbytych studiów (np. Life Sciences, Medical, Marketing) \n",
    "- **EmployeeCount** - Liczba osób o danym profilu \n",
    "- **EmployeeID** - ID pracownika\n",
    "- **Gender** - płeć\n",
    "- **JobLevel** - Zajmowana pozycja w firmie (szczebel) w skali od 1 do 5 \n",
    "- **JobRole** - Nazwa zajmowanej pozycji (np. \"Sales Executive\", \"Research Scientist\", \"Laboratory Technician\")\n",
    "- **MaritalStatus** - Stan cywilny (\"Kawaler\", \"Zamężny\", \"Wdowiec\")\n",
    "- **MonthlyIncome** - Miesięczny dochód w rupiach na miesiąc\n",
    "- **NumCompaniesWorked** - Łączna liczba firm, w których pracownik pracował\n",
    "- **Over18** - Czy pracownik ma ponad 18 lat (jest pełnoletni)? \n",
    "- **PercentSalaryHike** - Ile procent podwyżki dostał pracownik za ostatni rok\n",
    "- **StandardHours** - Standardowe godziny pracy pracownika (dla wszystkich pracowników jest to 8h)\n",
    "- **StockOptionLevel** - Który pakiet opcji na akcje przysługuje pracownikowi\n",
    "- **TotalWorkingYears** - Łączna liczba lat, które dotychczas przepracował pracownik \n",
    "- **TrainingTimesLastYear** - Liczba szkoleń w których pracownik wziął udział w ostatnim roku\n",
    "- **YearsAtCompany** - staż w firmie (w latach)\n",
    "- **YearsSinceLastPromotion** - okres od ostatniego awansu (w latach)\n",
    "- **YearsWithCurrManager** - liczba lat przepracowanych z obecnym managerem "
   ]
  },
  {
   "cell_type": "code",
   "execution_count": 3,
   "metadata": {
    "scrolled": true
   },
   "outputs": [
    {
     "data": {
      "text/html": [
       "<div>\n",
       "<style scoped>\n",
       "    .dataframe tbody tr th:only-of-type {\n",
       "        vertical-align: middle;\n",
       "    }\n",
       "\n",
       "    .dataframe tbody tr th {\n",
       "        vertical-align: top;\n",
       "    }\n",
       "\n",
       "    .dataframe thead th {\n",
       "        text-align: right;\n",
       "    }\n",
       "</style>\n",
       "<table border=\"1\" class=\"dataframe\">\n",
       "  <thead>\n",
       "    <tr style=\"text-align: right;\">\n",
       "      <th></th>\n",
       "      <th>Age</th>\n",
       "      <th>Attrition</th>\n",
       "      <th>BusinessTravel</th>\n",
       "      <th>Department</th>\n",
       "      <th>DistanceFromHome</th>\n",
       "      <th>Education</th>\n",
       "      <th>EducationField</th>\n",
       "      <th>EmployeeCount</th>\n",
       "      <th>EmployeeID</th>\n",
       "      <th>Gender</th>\n",
       "      <th>...</th>\n",
       "      <th>NumCompaniesWorked</th>\n",
       "      <th>Over18</th>\n",
       "      <th>PercentSalaryHike</th>\n",
       "      <th>StandardHours</th>\n",
       "      <th>StockOptionLevel</th>\n",
       "      <th>TotalWorkingYears</th>\n",
       "      <th>TrainingTimesLastYear</th>\n",
       "      <th>YearsAtCompany</th>\n",
       "      <th>YearsSinceLastPromotion</th>\n",
       "      <th>YearsWithCurrManager</th>\n",
       "    </tr>\n",
       "  </thead>\n",
       "  <tbody>\n",
       "    <tr>\n",
       "      <td>0</td>\n",
       "      <td>51</td>\n",
       "      <td>No</td>\n",
       "      <td>Travel_Rarely</td>\n",
       "      <td>Sales</td>\n",
       "      <td>6</td>\n",
       "      <td>2</td>\n",
       "      <td>Life Sciences</td>\n",
       "      <td>1</td>\n",
       "      <td>1</td>\n",
       "      <td>Female</td>\n",
       "      <td>...</td>\n",
       "      <td>1.0</td>\n",
       "      <td>Y</td>\n",
       "      <td>11</td>\n",
       "      <td>8</td>\n",
       "      <td>0</td>\n",
       "      <td>1.0</td>\n",
       "      <td>6</td>\n",
       "      <td>1</td>\n",
       "      <td>0</td>\n",
       "      <td>0</td>\n",
       "    </tr>\n",
       "    <tr>\n",
       "      <td>1</td>\n",
       "      <td>31</td>\n",
       "      <td>Yes</td>\n",
       "      <td>Travel_Frequently</td>\n",
       "      <td>Research &amp; Development</td>\n",
       "      <td>10</td>\n",
       "      <td>1</td>\n",
       "      <td>Life Sciences</td>\n",
       "      <td>1</td>\n",
       "      <td>2</td>\n",
       "      <td>Female</td>\n",
       "      <td>...</td>\n",
       "      <td>0.0</td>\n",
       "      <td>Y</td>\n",
       "      <td>23</td>\n",
       "      <td>8</td>\n",
       "      <td>1</td>\n",
       "      <td>6.0</td>\n",
       "      <td>3</td>\n",
       "      <td>5</td>\n",
       "      <td>1</td>\n",
       "      <td>4</td>\n",
       "    </tr>\n",
       "    <tr>\n",
       "      <td>2</td>\n",
       "      <td>32</td>\n",
       "      <td>No</td>\n",
       "      <td>Travel_Frequently</td>\n",
       "      <td>Research &amp; Development</td>\n",
       "      <td>17</td>\n",
       "      <td>4</td>\n",
       "      <td>Other</td>\n",
       "      <td>1</td>\n",
       "      <td>3</td>\n",
       "      <td>Male</td>\n",
       "      <td>...</td>\n",
       "      <td>1.0</td>\n",
       "      <td>Y</td>\n",
       "      <td>15</td>\n",
       "      <td>8</td>\n",
       "      <td>3</td>\n",
       "      <td>5.0</td>\n",
       "      <td>2</td>\n",
       "      <td>5</td>\n",
       "      <td>0</td>\n",
       "      <td>3</td>\n",
       "    </tr>\n",
       "    <tr>\n",
       "      <td>3</td>\n",
       "      <td>38</td>\n",
       "      <td>No</td>\n",
       "      <td>Non-Travel</td>\n",
       "      <td>Research &amp; Development</td>\n",
       "      <td>2</td>\n",
       "      <td>5</td>\n",
       "      <td>Life Sciences</td>\n",
       "      <td>1</td>\n",
       "      <td>4</td>\n",
       "      <td>Male</td>\n",
       "      <td>...</td>\n",
       "      <td>3.0</td>\n",
       "      <td>Y</td>\n",
       "      <td>11</td>\n",
       "      <td>8</td>\n",
       "      <td>3</td>\n",
       "      <td>13.0</td>\n",
       "      <td>5</td>\n",
       "      <td>8</td>\n",
       "      <td>7</td>\n",
       "      <td>5</td>\n",
       "    </tr>\n",
       "    <tr>\n",
       "      <td>4</td>\n",
       "      <td>32</td>\n",
       "      <td>No</td>\n",
       "      <td>Travel_Rarely</td>\n",
       "      <td>Research &amp; Development</td>\n",
       "      <td>10</td>\n",
       "      <td>1</td>\n",
       "      <td>Medical</td>\n",
       "      <td>1</td>\n",
       "      <td>5</td>\n",
       "      <td>Male</td>\n",
       "      <td>...</td>\n",
       "      <td>4.0</td>\n",
       "      <td>Y</td>\n",
       "      <td>12</td>\n",
       "      <td>8</td>\n",
       "      <td>2</td>\n",
       "      <td>9.0</td>\n",
       "      <td>2</td>\n",
       "      <td>6</td>\n",
       "      <td>0</td>\n",
       "      <td>4</td>\n",
       "    </tr>\n",
       "    <tr>\n",
       "      <td>5</td>\n",
       "      <td>46</td>\n",
       "      <td>No</td>\n",
       "      <td>Travel_Rarely</td>\n",
       "      <td>Research &amp; Development</td>\n",
       "      <td>8</td>\n",
       "      <td>3</td>\n",
       "      <td>Life Sciences</td>\n",
       "      <td>1</td>\n",
       "      <td>6</td>\n",
       "      <td>Female</td>\n",
       "      <td>...</td>\n",
       "      <td>3.0</td>\n",
       "      <td>Y</td>\n",
       "      <td>13</td>\n",
       "      <td>8</td>\n",
       "      <td>0</td>\n",
       "      <td>28.0</td>\n",
       "      <td>5</td>\n",
       "      <td>7</td>\n",
       "      <td>7</td>\n",
       "      <td>7</td>\n",
       "    </tr>\n",
       "    <tr>\n",
       "      <td>6</td>\n",
       "      <td>28</td>\n",
       "      <td>Yes</td>\n",
       "      <td>Travel_Rarely</td>\n",
       "      <td>Research &amp; Development</td>\n",
       "      <td>11</td>\n",
       "      <td>2</td>\n",
       "      <td>Medical</td>\n",
       "      <td>1</td>\n",
       "      <td>7</td>\n",
       "      <td>Male</td>\n",
       "      <td>...</td>\n",
       "      <td>2.0</td>\n",
       "      <td>Y</td>\n",
       "      <td>20</td>\n",
       "      <td>8</td>\n",
       "      <td>1</td>\n",
       "      <td>5.0</td>\n",
       "      <td>2</td>\n",
       "      <td>0</td>\n",
       "      <td>0</td>\n",
       "      <td>0</td>\n",
       "    </tr>\n",
       "    <tr>\n",
       "      <td>7</td>\n",
       "      <td>29</td>\n",
       "      <td>No</td>\n",
       "      <td>Travel_Rarely</td>\n",
       "      <td>Research &amp; Development</td>\n",
       "      <td>18</td>\n",
       "      <td>3</td>\n",
       "      <td>Life Sciences</td>\n",
       "      <td>1</td>\n",
       "      <td>8</td>\n",
       "      <td>Male</td>\n",
       "      <td>...</td>\n",
       "      <td>2.0</td>\n",
       "      <td>Y</td>\n",
       "      <td>22</td>\n",
       "      <td>8</td>\n",
       "      <td>3</td>\n",
       "      <td>10.0</td>\n",
       "      <td>2</td>\n",
       "      <td>0</td>\n",
       "      <td>0</td>\n",
       "      <td>0</td>\n",
       "    </tr>\n",
       "    <tr>\n",
       "      <td>8</td>\n",
       "      <td>31</td>\n",
       "      <td>No</td>\n",
       "      <td>Travel_Rarely</td>\n",
       "      <td>Research &amp; Development</td>\n",
       "      <td>1</td>\n",
       "      <td>3</td>\n",
       "      <td>Life Sciences</td>\n",
       "      <td>1</td>\n",
       "      <td>9</td>\n",
       "      <td>Male</td>\n",
       "      <td>...</td>\n",
       "      <td>0.0</td>\n",
       "      <td>Y</td>\n",
       "      <td>21</td>\n",
       "      <td>8</td>\n",
       "      <td>0</td>\n",
       "      <td>10.0</td>\n",
       "      <td>2</td>\n",
       "      <td>9</td>\n",
       "      <td>7</td>\n",
       "      <td>8</td>\n",
       "    </tr>\n",
       "    <tr>\n",
       "      <td>9</td>\n",
       "      <td>25</td>\n",
       "      <td>No</td>\n",
       "      <td>Non-Travel</td>\n",
       "      <td>Research &amp; Development</td>\n",
       "      <td>7</td>\n",
       "      <td>4</td>\n",
       "      <td>Medical</td>\n",
       "      <td>1</td>\n",
       "      <td>10</td>\n",
       "      <td>Female</td>\n",
       "      <td>...</td>\n",
       "      <td>1.0</td>\n",
       "      <td>Y</td>\n",
       "      <td>13</td>\n",
       "      <td>8</td>\n",
       "      <td>1</td>\n",
       "      <td>6.0</td>\n",
       "      <td>2</td>\n",
       "      <td>6</td>\n",
       "      <td>1</td>\n",
       "      <td>5</td>\n",
       "    </tr>\n",
       "  </tbody>\n",
       "</table>\n",
       "<p>10 rows × 24 columns</p>\n",
       "</div>"
      ],
      "text/plain": [
       "   Age Attrition     BusinessTravel              Department  DistanceFromHome  \\\n",
       "0   51        No      Travel_Rarely                   Sales                 6   \n",
       "1   31       Yes  Travel_Frequently  Research & Development                10   \n",
       "2   32        No  Travel_Frequently  Research & Development                17   \n",
       "3   38        No         Non-Travel  Research & Development                 2   \n",
       "4   32        No      Travel_Rarely  Research & Development                10   \n",
       "5   46        No      Travel_Rarely  Research & Development                 8   \n",
       "6   28       Yes      Travel_Rarely  Research & Development                11   \n",
       "7   29        No      Travel_Rarely  Research & Development                18   \n",
       "8   31        No      Travel_Rarely  Research & Development                 1   \n",
       "9   25        No         Non-Travel  Research & Development                 7   \n",
       "\n",
       "   Education EducationField  EmployeeCount  EmployeeID  Gender  ...  \\\n",
       "0          2  Life Sciences              1           1  Female  ...   \n",
       "1          1  Life Sciences              1           2  Female  ...   \n",
       "2          4          Other              1           3    Male  ...   \n",
       "3          5  Life Sciences              1           4    Male  ...   \n",
       "4          1        Medical              1           5    Male  ...   \n",
       "5          3  Life Sciences              1           6  Female  ...   \n",
       "6          2        Medical              1           7    Male  ...   \n",
       "7          3  Life Sciences              1           8    Male  ...   \n",
       "8          3  Life Sciences              1           9    Male  ...   \n",
       "9          4        Medical              1          10  Female  ...   \n",
       "\n",
       "   NumCompaniesWorked Over18 PercentSalaryHike  StandardHours  \\\n",
       "0                 1.0      Y                11              8   \n",
       "1                 0.0      Y                23              8   \n",
       "2                 1.0      Y                15              8   \n",
       "3                 3.0      Y                11              8   \n",
       "4                 4.0      Y                12              8   \n",
       "5                 3.0      Y                13              8   \n",
       "6                 2.0      Y                20              8   \n",
       "7                 2.0      Y                22              8   \n",
       "8                 0.0      Y                21              8   \n",
       "9                 1.0      Y                13              8   \n",
       "\n",
       "   StockOptionLevel TotalWorkingYears  TrainingTimesLastYear  YearsAtCompany  \\\n",
       "0                 0               1.0                      6               1   \n",
       "1                 1               6.0                      3               5   \n",
       "2                 3               5.0                      2               5   \n",
       "3                 3              13.0                      5               8   \n",
       "4                 2               9.0                      2               6   \n",
       "5                 0              28.0                      5               7   \n",
       "6                 1               5.0                      2               0   \n",
       "7                 3              10.0                      2               0   \n",
       "8                 0              10.0                      2               9   \n",
       "9                 1               6.0                      2               6   \n",
       "\n",
       "   YearsSinceLastPromotion  YearsWithCurrManager  \n",
       "0                        0                     0  \n",
       "1                        1                     4  \n",
       "2                        0                     3  \n",
       "3                        7                     5  \n",
       "4                        0                     4  \n",
       "5                        7                     7  \n",
       "6                        0                     0  \n",
       "7                        0                     0  \n",
       "8                        7                     8  \n",
       "9                        1                     5  \n",
       "\n",
       "[10 rows x 24 columns]"
      ]
     },
     "execution_count": 3,
     "metadata": {},
     "output_type": "execute_result"
    }
   ],
   "source": [
    "generalData = pd.read_csv(\"data/general_data.csv\")\n",
    "generalData.head(10)"
   ]
  },
  {
   "cell_type": "markdown",
   "metadata": {},
   "source": [
    "## In time - kiedy pracownik zalogował się\n",
    "Timestamp, o kórej godzinie zalogował się pracownik. Dane zebrane w ciągu 262 dni, od 1.01.2015 do 19.05.2015. NaN jeśli pracownik nie zalogował się danego dnia. "
   ]
  },
  {
   "cell_type": "code",
   "execution_count": 4,
   "metadata": {
    "scrolled": true
   },
   "outputs": [
    {
     "data": {
      "text/html": [
       "<div>\n",
       "<style scoped>\n",
       "    .dataframe tbody tr th:only-of-type {\n",
       "        vertical-align: middle;\n",
       "    }\n",
       "\n",
       "    .dataframe tbody tr th {\n",
       "        vertical-align: top;\n",
       "    }\n",
       "\n",
       "    .dataframe thead th {\n",
       "        text-align: right;\n",
       "    }\n",
       "</style>\n",
       "<table border=\"1\" class=\"dataframe\">\n",
       "  <thead>\n",
       "    <tr style=\"text-align: right;\">\n",
       "      <th></th>\n",
       "      <th>Unnamed: 0</th>\n",
       "      <th>2015-01-01</th>\n",
       "      <th>2015-01-02</th>\n",
       "      <th>2015-01-05</th>\n",
       "      <th>2015-01-06</th>\n",
       "      <th>2015-01-07</th>\n",
       "      <th>2015-01-08</th>\n",
       "      <th>2015-01-09</th>\n",
       "      <th>2015-01-12</th>\n",
       "      <th>2015-01-13</th>\n",
       "      <th>...</th>\n",
       "      <th>2015-12-18</th>\n",
       "      <th>2015-12-21</th>\n",
       "      <th>2015-12-22</th>\n",
       "      <th>2015-12-23</th>\n",
       "      <th>2015-12-24</th>\n",
       "      <th>2015-12-25</th>\n",
       "      <th>2015-12-28</th>\n",
       "      <th>2015-12-29</th>\n",
       "      <th>2015-12-30</th>\n",
       "      <th>2015-12-31</th>\n",
       "    </tr>\n",
       "  </thead>\n",
       "  <tbody>\n",
       "    <tr>\n",
       "      <td>0</td>\n",
       "      <td>1</td>\n",
       "      <td>NaN</td>\n",
       "      <td>2015-01-02 09:43:45</td>\n",
       "      <td>2015-01-05 10:08:48</td>\n",
       "      <td>2015-01-06 09:54:26</td>\n",
       "      <td>2015-01-07 09:34:31</td>\n",
       "      <td>2015-01-08 09:51:09</td>\n",
       "      <td>2015-01-09 10:09:25</td>\n",
       "      <td>2015-01-12 09:42:53</td>\n",
       "      <td>2015-01-13 10:13:06</td>\n",
       "      <td>...</td>\n",
       "      <td>NaN</td>\n",
       "      <td>2015-12-21 09:55:29</td>\n",
       "      <td>2015-12-22 10:04:06</td>\n",
       "      <td>2015-12-23 10:14:27</td>\n",
       "      <td>2015-12-24 10:11:35</td>\n",
       "      <td>NaN</td>\n",
       "      <td>2015-12-28 10:13:41</td>\n",
       "      <td>2015-12-29 10:03:36</td>\n",
       "      <td>2015-12-30 09:54:12</td>\n",
       "      <td>2015-12-31 10:12:44</td>\n",
       "    </tr>\n",
       "    <tr>\n",
       "      <td>1</td>\n",
       "      <td>2</td>\n",
       "      <td>NaN</td>\n",
       "      <td>2015-01-02 10:15:44</td>\n",
       "      <td>2015-01-05 10:21:05</td>\n",
       "      <td>NaN</td>\n",
       "      <td>2015-01-07 09:45:17</td>\n",
       "      <td>2015-01-08 10:09:04</td>\n",
       "      <td>2015-01-09 09:43:26</td>\n",
       "      <td>2015-01-12 10:00:07</td>\n",
       "      <td>2015-01-13 10:43:29</td>\n",
       "      <td>...</td>\n",
       "      <td>2015-12-18 10:37:17</td>\n",
       "      <td>2015-12-21 09:49:02</td>\n",
       "      <td>2015-12-22 10:33:51</td>\n",
       "      <td>2015-12-23 10:12:10</td>\n",
       "      <td>NaN</td>\n",
       "      <td>NaN</td>\n",
       "      <td>2015-12-28 09:31:45</td>\n",
       "      <td>2015-12-29 09:55:49</td>\n",
       "      <td>2015-12-30 10:32:25</td>\n",
       "      <td>2015-12-31 09:27:20</td>\n",
       "    </tr>\n",
       "    <tr>\n",
       "      <td>2</td>\n",
       "      <td>3</td>\n",
       "      <td>NaN</td>\n",
       "      <td>2015-01-02 10:17:41</td>\n",
       "      <td>2015-01-05 09:50:50</td>\n",
       "      <td>2015-01-06 10:14:13</td>\n",
       "      <td>2015-01-07 09:47:27</td>\n",
       "      <td>2015-01-08 10:03:40</td>\n",
       "      <td>2015-01-09 10:05:49</td>\n",
       "      <td>2015-01-12 10:03:47</td>\n",
       "      <td>2015-01-13 10:21:26</td>\n",
       "      <td>...</td>\n",
       "      <td>2015-12-18 10:15:14</td>\n",
       "      <td>2015-12-21 10:10:28</td>\n",
       "      <td>2015-12-22 09:44:44</td>\n",
       "      <td>2015-12-23 10:15:54</td>\n",
       "      <td>2015-12-24 10:07:26</td>\n",
       "      <td>NaN</td>\n",
       "      <td>2015-12-28 09:42:05</td>\n",
       "      <td>2015-12-29 09:43:36</td>\n",
       "      <td>2015-12-30 09:34:05</td>\n",
       "      <td>2015-12-31 10:28:39</td>\n",
       "    </tr>\n",
       "    <tr>\n",
       "      <td>3</td>\n",
       "      <td>4</td>\n",
       "      <td>NaN</td>\n",
       "      <td>2015-01-02 10:05:06</td>\n",
       "      <td>2015-01-05 09:56:32</td>\n",
       "      <td>2015-01-06 10:11:07</td>\n",
       "      <td>2015-01-07 09:37:30</td>\n",
       "      <td>2015-01-08 10:02:08</td>\n",
       "      <td>2015-01-09 10:08:12</td>\n",
       "      <td>2015-01-12 10:13:42</td>\n",
       "      <td>2015-01-13 09:53:22</td>\n",
       "      <td>...</td>\n",
       "      <td>2015-12-18 10:17:38</td>\n",
       "      <td>2015-12-21 09:58:21</td>\n",
       "      <td>2015-12-22 10:04:25</td>\n",
       "      <td>2015-12-23 10:11:46</td>\n",
       "      <td>2015-12-24 09:43:15</td>\n",
       "      <td>NaN</td>\n",
       "      <td>2015-12-28 09:52:44</td>\n",
       "      <td>2015-12-29 09:33:16</td>\n",
       "      <td>2015-12-30 10:18:12</td>\n",
       "      <td>2015-12-31 10:01:15</td>\n",
       "    </tr>\n",
       "    <tr>\n",
       "      <td>4</td>\n",
       "      <td>5</td>\n",
       "      <td>NaN</td>\n",
       "      <td>2015-01-02 10:28:17</td>\n",
       "      <td>2015-01-05 09:49:58</td>\n",
       "      <td>2015-01-06 09:45:28</td>\n",
       "      <td>2015-01-07 09:49:37</td>\n",
       "      <td>2015-01-08 10:19:44</td>\n",
       "      <td>2015-01-09 10:00:50</td>\n",
       "      <td>2015-01-12 10:29:27</td>\n",
       "      <td>2015-01-13 09:59:32</td>\n",
       "      <td>...</td>\n",
       "      <td>2015-12-18 09:58:35</td>\n",
       "      <td>2015-12-21 10:03:41</td>\n",
       "      <td>2015-12-22 10:10:30</td>\n",
       "      <td>2015-12-23 10:13:36</td>\n",
       "      <td>2015-12-24 09:44:24</td>\n",
       "      <td>NaN</td>\n",
       "      <td>2015-12-28 10:05:15</td>\n",
       "      <td>2015-12-29 10:30:53</td>\n",
       "      <td>2015-12-30 09:18:21</td>\n",
       "      <td>2015-12-31 09:41:09</td>\n",
       "    </tr>\n",
       "    <tr>\n",
       "      <td>5</td>\n",
       "      <td>6</td>\n",
       "      <td>NaN</td>\n",
       "      <td>2015-01-02 09:43:08</td>\n",
       "      <td>2015-01-05 10:14:00</td>\n",
       "      <td>2015-01-06 10:08:42</td>\n",
       "      <td>2015-01-07 10:18:15</td>\n",
       "      <td>2015-01-08 10:33:09</td>\n",
       "      <td>2015-01-09 10:19:13</td>\n",
       "      <td>2015-01-12 09:48:30</td>\n",
       "      <td>2015-01-13 09:54:26</td>\n",
       "      <td>...</td>\n",
       "      <td>2015-12-18 10:24:55</td>\n",
       "      <td>2015-12-21 09:44:43</td>\n",
       "      <td>2015-12-22 09:38:00</td>\n",
       "      <td>2015-12-23 09:53:27</td>\n",
       "      <td>2015-12-24 09:38:46</td>\n",
       "      <td>NaN</td>\n",
       "      <td>NaN</td>\n",
       "      <td>2015-12-29 09:51:47</td>\n",
       "      <td>2015-12-30 10:20:39</td>\n",
       "      <td>2015-12-31 09:55:25</td>\n",
       "    </tr>\n",
       "    <tr>\n",
       "      <td>6</td>\n",
       "      <td>7</td>\n",
       "      <td>NaN</td>\n",
       "      <td>2015-01-02 10:20:13</td>\n",
       "      <td>2015-01-05 09:30:01</td>\n",
       "      <td>2015-01-06 09:48:47</td>\n",
       "      <td>2015-01-07 09:46:18</td>\n",
       "      <td>2015-01-08 09:59:29</td>\n",
       "      <td>2015-01-09 10:13:26</td>\n",
       "      <td>2015-01-12 09:23:42</td>\n",
       "      <td>2015-01-13 10:00:14</td>\n",
       "      <td>...</td>\n",
       "      <td>2015-12-18 10:12:15</td>\n",
       "      <td>2015-12-21 09:52:10</td>\n",
       "      <td>NaN</td>\n",
       "      <td>2015-12-23 10:22:03</td>\n",
       "      <td>2015-12-24 10:24:29</td>\n",
       "      <td>NaN</td>\n",
       "      <td>2015-12-28 10:19:47</td>\n",
       "      <td>2015-12-29 09:44:16</td>\n",
       "      <td>2015-12-30 10:05:48</td>\n",
       "      <td>2015-12-31 10:04:10</td>\n",
       "    </tr>\n",
       "    <tr>\n",
       "      <td>7</td>\n",
       "      <td>8</td>\n",
       "      <td>NaN</td>\n",
       "      <td>2015-01-02 09:57:10</td>\n",
       "      <td>2015-01-05 09:48:56</td>\n",
       "      <td>2015-01-06 09:54:04</td>\n",
       "      <td>2015-01-07 09:52:31</td>\n",
       "      <td>2015-01-08 09:58:31</td>\n",
       "      <td>2015-01-09 09:53:12</td>\n",
       "      <td>2015-01-12 09:58:57</td>\n",
       "      <td>2015-01-13 09:42:05</td>\n",
       "      <td>...</td>\n",
       "      <td>2015-12-18 10:16:27</td>\n",
       "      <td>2015-12-21 10:12:52</td>\n",
       "      <td>2015-12-22 10:58:57</td>\n",
       "      <td>2015-12-23 09:45:12</td>\n",
       "      <td>2015-12-24 09:46:29</td>\n",
       "      <td>NaN</td>\n",
       "      <td>2015-12-28 09:59:24</td>\n",
       "      <td>2015-12-29 09:54:34</td>\n",
       "      <td>2015-12-30 09:43:37</td>\n",
       "      <td>2015-12-31 10:33:00</td>\n",
       "    </tr>\n",
       "    <tr>\n",
       "      <td>8</td>\n",
       "      <td>9</td>\n",
       "      <td>NaN</td>\n",
       "      <td>NaN</td>\n",
       "      <td>2015-01-05 10:01:42</td>\n",
       "      <td>2015-01-06 09:50:56</td>\n",
       "      <td>2015-01-07 10:02:57</td>\n",
       "      <td>2015-01-08 10:07:22</td>\n",
       "      <td>2015-01-09 09:59:54</td>\n",
       "      <td>2015-01-12 10:14:55</td>\n",
       "      <td>NaN</td>\n",
       "      <td>...</td>\n",
       "      <td>2015-12-18 10:19:42</td>\n",
       "      <td>2015-12-21 10:18:09</td>\n",
       "      <td>2015-12-22 09:39:54</td>\n",
       "      <td>2015-12-23 09:48:05</td>\n",
       "      <td>2015-12-24 10:00:32</td>\n",
       "      <td>NaN</td>\n",
       "      <td>NaN</td>\n",
       "      <td>2015-12-29 10:06:27</td>\n",
       "      <td>2015-12-30 10:17:59</td>\n",
       "      <td>2015-12-31 09:28:41</td>\n",
       "    </tr>\n",
       "    <tr>\n",
       "      <td>9</td>\n",
       "      <td>10</td>\n",
       "      <td>NaN</td>\n",
       "      <td>2015-01-02 09:55:53</td>\n",
       "      <td>2015-01-05 10:21:06</td>\n",
       "      <td>2015-01-06 10:03:01</td>\n",
       "      <td>2015-01-07 10:06:01</td>\n",
       "      <td>2015-01-08 09:52:25</td>\n",
       "      <td>2015-01-09 09:36:12</td>\n",
       "      <td>2015-01-12 09:59:26</td>\n",
       "      <td>2015-01-13 10:08:33</td>\n",
       "      <td>...</td>\n",
       "      <td>2015-12-18 09:57:20</td>\n",
       "      <td>2015-12-21 09:39:07</td>\n",
       "      <td>2015-12-22 10:17:05</td>\n",
       "      <td>2015-12-23 10:25:33</td>\n",
       "      <td>2015-12-24 10:21:01</td>\n",
       "      <td>NaN</td>\n",
       "      <td>2015-12-28 10:20:31</td>\n",
       "      <td>2015-12-29 10:12:14</td>\n",
       "      <td>2015-12-30 10:08:04</td>\n",
       "      <td>2015-12-31 10:00:21</td>\n",
       "    </tr>\n",
       "  </tbody>\n",
       "</table>\n",
       "<p>10 rows × 262 columns</p>\n",
       "</div>"
      ],
      "text/plain": [
       "   Unnamed: 0  2015-01-01           2015-01-02           2015-01-05  \\\n",
       "0           1         NaN  2015-01-02 09:43:45  2015-01-05 10:08:48   \n",
       "1           2         NaN  2015-01-02 10:15:44  2015-01-05 10:21:05   \n",
       "2           3         NaN  2015-01-02 10:17:41  2015-01-05 09:50:50   \n",
       "3           4         NaN  2015-01-02 10:05:06  2015-01-05 09:56:32   \n",
       "4           5         NaN  2015-01-02 10:28:17  2015-01-05 09:49:58   \n",
       "5           6         NaN  2015-01-02 09:43:08  2015-01-05 10:14:00   \n",
       "6           7         NaN  2015-01-02 10:20:13  2015-01-05 09:30:01   \n",
       "7           8         NaN  2015-01-02 09:57:10  2015-01-05 09:48:56   \n",
       "8           9         NaN                  NaN  2015-01-05 10:01:42   \n",
       "9          10         NaN  2015-01-02 09:55:53  2015-01-05 10:21:06   \n",
       "\n",
       "            2015-01-06           2015-01-07           2015-01-08  \\\n",
       "0  2015-01-06 09:54:26  2015-01-07 09:34:31  2015-01-08 09:51:09   \n",
       "1                  NaN  2015-01-07 09:45:17  2015-01-08 10:09:04   \n",
       "2  2015-01-06 10:14:13  2015-01-07 09:47:27  2015-01-08 10:03:40   \n",
       "3  2015-01-06 10:11:07  2015-01-07 09:37:30  2015-01-08 10:02:08   \n",
       "4  2015-01-06 09:45:28  2015-01-07 09:49:37  2015-01-08 10:19:44   \n",
       "5  2015-01-06 10:08:42  2015-01-07 10:18:15  2015-01-08 10:33:09   \n",
       "6  2015-01-06 09:48:47  2015-01-07 09:46:18  2015-01-08 09:59:29   \n",
       "7  2015-01-06 09:54:04  2015-01-07 09:52:31  2015-01-08 09:58:31   \n",
       "8  2015-01-06 09:50:56  2015-01-07 10:02:57  2015-01-08 10:07:22   \n",
       "9  2015-01-06 10:03:01  2015-01-07 10:06:01  2015-01-08 09:52:25   \n",
       "\n",
       "            2015-01-09           2015-01-12           2015-01-13  ...  \\\n",
       "0  2015-01-09 10:09:25  2015-01-12 09:42:53  2015-01-13 10:13:06  ...   \n",
       "1  2015-01-09 09:43:26  2015-01-12 10:00:07  2015-01-13 10:43:29  ...   \n",
       "2  2015-01-09 10:05:49  2015-01-12 10:03:47  2015-01-13 10:21:26  ...   \n",
       "3  2015-01-09 10:08:12  2015-01-12 10:13:42  2015-01-13 09:53:22  ...   \n",
       "4  2015-01-09 10:00:50  2015-01-12 10:29:27  2015-01-13 09:59:32  ...   \n",
       "5  2015-01-09 10:19:13  2015-01-12 09:48:30  2015-01-13 09:54:26  ...   \n",
       "6  2015-01-09 10:13:26  2015-01-12 09:23:42  2015-01-13 10:00:14  ...   \n",
       "7  2015-01-09 09:53:12  2015-01-12 09:58:57  2015-01-13 09:42:05  ...   \n",
       "8  2015-01-09 09:59:54  2015-01-12 10:14:55                  NaN  ...   \n",
       "9  2015-01-09 09:36:12  2015-01-12 09:59:26  2015-01-13 10:08:33  ...   \n",
       "\n",
       "            2015-12-18           2015-12-21           2015-12-22  \\\n",
       "0                  NaN  2015-12-21 09:55:29  2015-12-22 10:04:06   \n",
       "1  2015-12-18 10:37:17  2015-12-21 09:49:02  2015-12-22 10:33:51   \n",
       "2  2015-12-18 10:15:14  2015-12-21 10:10:28  2015-12-22 09:44:44   \n",
       "3  2015-12-18 10:17:38  2015-12-21 09:58:21  2015-12-22 10:04:25   \n",
       "4  2015-12-18 09:58:35  2015-12-21 10:03:41  2015-12-22 10:10:30   \n",
       "5  2015-12-18 10:24:55  2015-12-21 09:44:43  2015-12-22 09:38:00   \n",
       "6  2015-12-18 10:12:15  2015-12-21 09:52:10                  NaN   \n",
       "7  2015-12-18 10:16:27  2015-12-21 10:12:52  2015-12-22 10:58:57   \n",
       "8  2015-12-18 10:19:42  2015-12-21 10:18:09  2015-12-22 09:39:54   \n",
       "9  2015-12-18 09:57:20  2015-12-21 09:39:07  2015-12-22 10:17:05   \n",
       "\n",
       "            2015-12-23           2015-12-24 2015-12-25           2015-12-28  \\\n",
       "0  2015-12-23 10:14:27  2015-12-24 10:11:35        NaN  2015-12-28 10:13:41   \n",
       "1  2015-12-23 10:12:10                  NaN        NaN  2015-12-28 09:31:45   \n",
       "2  2015-12-23 10:15:54  2015-12-24 10:07:26        NaN  2015-12-28 09:42:05   \n",
       "3  2015-12-23 10:11:46  2015-12-24 09:43:15        NaN  2015-12-28 09:52:44   \n",
       "4  2015-12-23 10:13:36  2015-12-24 09:44:24        NaN  2015-12-28 10:05:15   \n",
       "5  2015-12-23 09:53:27  2015-12-24 09:38:46        NaN                  NaN   \n",
       "6  2015-12-23 10:22:03  2015-12-24 10:24:29        NaN  2015-12-28 10:19:47   \n",
       "7  2015-12-23 09:45:12  2015-12-24 09:46:29        NaN  2015-12-28 09:59:24   \n",
       "8  2015-12-23 09:48:05  2015-12-24 10:00:32        NaN                  NaN   \n",
       "9  2015-12-23 10:25:33  2015-12-24 10:21:01        NaN  2015-12-28 10:20:31   \n",
       "\n",
       "            2015-12-29           2015-12-30           2015-12-31  \n",
       "0  2015-12-29 10:03:36  2015-12-30 09:54:12  2015-12-31 10:12:44  \n",
       "1  2015-12-29 09:55:49  2015-12-30 10:32:25  2015-12-31 09:27:20  \n",
       "2  2015-12-29 09:43:36  2015-12-30 09:34:05  2015-12-31 10:28:39  \n",
       "3  2015-12-29 09:33:16  2015-12-30 10:18:12  2015-12-31 10:01:15  \n",
       "4  2015-12-29 10:30:53  2015-12-30 09:18:21  2015-12-31 09:41:09  \n",
       "5  2015-12-29 09:51:47  2015-12-30 10:20:39  2015-12-31 09:55:25  \n",
       "6  2015-12-29 09:44:16  2015-12-30 10:05:48  2015-12-31 10:04:10  \n",
       "7  2015-12-29 09:54:34  2015-12-30 09:43:37  2015-12-31 10:33:00  \n",
       "8  2015-12-29 10:06:27  2015-12-30 10:17:59  2015-12-31 09:28:41  \n",
       "9  2015-12-29 10:12:14  2015-12-30 10:08:04  2015-12-31 10:00:21  \n",
       "\n",
       "[10 rows x 262 columns]"
      ]
     },
     "execution_count": 4,
     "metadata": {},
     "output_type": "execute_result"
    }
   ],
   "source": [
    "inTime = pd.read_csv(\"data/in_time.csv\")\n",
    "inTime.head(10)"
   ]
  },
  {
   "cell_type": "markdown",
   "metadata": {},
   "source": [
    "## Out time - kiedy pracownik wylogował się\n",
    "Timestamp, o kórej godzinie pracownik wylogował się z systemu. Dane zebrane w ciągu 262 dni, od 1.01.2015 do 19.05.2015. NaN jeśli pracownik nie był obecny danego dnia. "
   ]
  },
  {
   "cell_type": "code",
   "execution_count": 5,
   "metadata": {
    "scrolled": true
   },
   "outputs": [
    {
     "data": {
      "text/html": [
       "<div>\n",
       "<style scoped>\n",
       "    .dataframe tbody tr th:only-of-type {\n",
       "        vertical-align: middle;\n",
       "    }\n",
       "\n",
       "    .dataframe tbody tr th {\n",
       "        vertical-align: top;\n",
       "    }\n",
       "\n",
       "    .dataframe thead th {\n",
       "        text-align: right;\n",
       "    }\n",
       "</style>\n",
       "<table border=\"1\" class=\"dataframe\">\n",
       "  <thead>\n",
       "    <tr style=\"text-align: right;\">\n",
       "      <th></th>\n",
       "      <th>Unnamed: 0</th>\n",
       "      <th>2015-01-01</th>\n",
       "      <th>2015-01-02</th>\n",
       "      <th>2015-01-05</th>\n",
       "      <th>2015-01-06</th>\n",
       "      <th>2015-01-07</th>\n",
       "      <th>2015-01-08</th>\n",
       "      <th>2015-01-09</th>\n",
       "      <th>2015-01-12</th>\n",
       "      <th>2015-01-13</th>\n",
       "      <th>...</th>\n",
       "      <th>2015-12-18</th>\n",
       "      <th>2015-12-21</th>\n",
       "      <th>2015-12-22</th>\n",
       "      <th>2015-12-23</th>\n",
       "      <th>2015-12-24</th>\n",
       "      <th>2015-12-25</th>\n",
       "      <th>2015-12-28</th>\n",
       "      <th>2015-12-29</th>\n",
       "      <th>2015-12-30</th>\n",
       "      <th>2015-12-31</th>\n",
       "    </tr>\n",
       "  </thead>\n",
       "  <tbody>\n",
       "    <tr>\n",
       "      <td>0</td>\n",
       "      <td>1</td>\n",
       "      <td>NaN</td>\n",
       "      <td>2015-01-02 16:56:15</td>\n",
       "      <td>2015-01-05 17:20:11</td>\n",
       "      <td>2015-01-06 17:19:05</td>\n",
       "      <td>2015-01-07 16:34:55</td>\n",
       "      <td>2015-01-08 17:08:32</td>\n",
       "      <td>2015-01-09 17:38:29</td>\n",
       "      <td>2015-01-12 16:58:39</td>\n",
       "      <td>2015-01-13 18:02:58</td>\n",
       "      <td>...</td>\n",
       "      <td>NaN</td>\n",
       "      <td>2015-12-21 17:15:50</td>\n",
       "      <td>2015-12-22 17:27:51</td>\n",
       "      <td>2015-12-23 16:44:44</td>\n",
       "      <td>2015-12-24 17:47:22</td>\n",
       "      <td>NaN</td>\n",
       "      <td>2015-12-28 18:00:07</td>\n",
       "      <td>2015-12-29 17:22:30</td>\n",
       "      <td>2015-12-30 17:40:56</td>\n",
       "      <td>2015-12-31 17:17:33</td>\n",
       "    </tr>\n",
       "    <tr>\n",
       "      <td>1</td>\n",
       "      <td>2</td>\n",
       "      <td>NaN</td>\n",
       "      <td>2015-01-02 18:22:17</td>\n",
       "      <td>2015-01-05 17:48:22</td>\n",
       "      <td>NaN</td>\n",
       "      <td>2015-01-07 17:09:06</td>\n",
       "      <td>2015-01-08 17:34:04</td>\n",
       "      <td>2015-01-09 16:52:29</td>\n",
       "      <td>2015-01-12 17:36:48</td>\n",
       "      <td>2015-01-13 18:00:13</td>\n",
       "      <td>...</td>\n",
       "      <td>2015-12-18 18:31:28</td>\n",
       "      <td>2015-12-21 17:34:16</td>\n",
       "      <td>2015-12-22 18:16:35</td>\n",
       "      <td>2015-12-23 17:38:18</td>\n",
       "      <td>NaN</td>\n",
       "      <td>NaN</td>\n",
       "      <td>2015-12-28 17:08:38</td>\n",
       "      <td>2015-12-29 17:54:46</td>\n",
       "      <td>2015-12-30 18:31:35</td>\n",
       "      <td>2015-12-31 17:40:58</td>\n",
       "    </tr>\n",
       "    <tr>\n",
       "      <td>2</td>\n",
       "      <td>3</td>\n",
       "      <td>NaN</td>\n",
       "      <td>2015-01-02 16:59:14</td>\n",
       "      <td>2015-01-05 17:06:46</td>\n",
       "      <td>2015-01-06 16:38:32</td>\n",
       "      <td>2015-01-07 16:33:21</td>\n",
       "      <td>2015-01-08 17:24:22</td>\n",
       "      <td>2015-01-09 16:57:30</td>\n",
       "      <td>2015-01-12 17:28:54</td>\n",
       "      <td>2015-01-13 17:21:25</td>\n",
       "      <td>...</td>\n",
       "      <td>2015-12-18 17:02:23</td>\n",
       "      <td>2015-12-21 17:20:17</td>\n",
       "      <td>2015-12-22 16:32:50</td>\n",
       "      <td>2015-12-23 16:59:43</td>\n",
       "      <td>2015-12-24 16:58:25</td>\n",
       "      <td>NaN</td>\n",
       "      <td>2015-12-28 16:43:31</td>\n",
       "      <td>2015-12-29 17:09:56</td>\n",
       "      <td>2015-12-30 17:06:25</td>\n",
       "      <td>2015-12-31 17:15:50</td>\n",
       "    </tr>\n",
       "    <tr>\n",
       "      <td>3</td>\n",
       "      <td>4</td>\n",
       "      <td>NaN</td>\n",
       "      <td>2015-01-02 17:25:24</td>\n",
       "      <td>2015-01-05 17:14:03</td>\n",
       "      <td>2015-01-06 17:07:42</td>\n",
       "      <td>2015-01-07 16:32:40</td>\n",
       "      <td>2015-01-08 16:53:11</td>\n",
       "      <td>2015-01-09 17:19:47</td>\n",
       "      <td>2015-01-12 17:13:37</td>\n",
       "      <td>2015-01-13 17:11:45</td>\n",
       "      <td>...</td>\n",
       "      <td>2015-12-18 17:55:23</td>\n",
       "      <td>2015-12-21 16:49:09</td>\n",
       "      <td>2015-12-22 17:24:00</td>\n",
       "      <td>2015-12-23 17:36:35</td>\n",
       "      <td>2015-12-24 16:48:21</td>\n",
       "      <td>NaN</td>\n",
       "      <td>2015-12-28 17:19:34</td>\n",
       "      <td>2015-12-29 16:58:16</td>\n",
       "      <td>2015-12-30 17:40:11</td>\n",
       "      <td>2015-12-31 17:09:14</td>\n",
       "    </tr>\n",
       "    <tr>\n",
       "      <td>4</td>\n",
       "      <td>5</td>\n",
       "      <td>NaN</td>\n",
       "      <td>2015-01-02 18:31:37</td>\n",
       "      <td>2015-01-05 17:49:15</td>\n",
       "      <td>2015-01-06 17:26:25</td>\n",
       "      <td>2015-01-07 17:37:59</td>\n",
       "      <td>2015-01-08 17:59:28</td>\n",
       "      <td>2015-01-09 17:44:08</td>\n",
       "      <td>2015-01-12 18:51:21</td>\n",
       "      <td>2015-01-13 18:14:58</td>\n",
       "      <td>...</td>\n",
       "      <td>2015-12-18 17:52:48</td>\n",
       "      <td>2015-12-21 17:43:35</td>\n",
       "      <td>2015-12-22 18:07:57</td>\n",
       "      <td>2015-12-23 18:00:49</td>\n",
       "      <td>2015-12-24 17:59:22</td>\n",
       "      <td>NaN</td>\n",
       "      <td>2015-12-28 17:44:59</td>\n",
       "      <td>2015-12-29 18:47:00</td>\n",
       "      <td>2015-12-30 17:15:33</td>\n",
       "      <td>2015-12-31 17:42:14</td>\n",
       "    </tr>\n",
       "    <tr>\n",
       "      <td>5</td>\n",
       "      <td>6</td>\n",
       "      <td>NaN</td>\n",
       "      <td>2015-01-02 20:29:54</td>\n",
       "      <td>2015-01-05 20:57:19</td>\n",
       "      <td>2015-01-06 21:06:31</td>\n",
       "      <td>2015-01-07 20:36:10</td>\n",
       "      <td>2015-01-08 21:33:43</td>\n",
       "      <td>2015-01-09 21:25:12</td>\n",
       "      <td>2015-01-12 20:38:47</td>\n",
       "      <td>2015-01-13 20:10:38</td>\n",
       "      <td>...</td>\n",
       "      <td>2015-12-18 20:58:47</td>\n",
       "      <td>2015-12-21 20:48:45</td>\n",
       "      <td>2015-12-22 20:46:45</td>\n",
       "      <td>2015-12-23 20:51:06</td>\n",
       "      <td>2015-12-24 20:06:50</td>\n",
       "      <td>NaN</td>\n",
       "      <td>NaN</td>\n",
       "      <td>2015-12-29 20:45:24</td>\n",
       "      <td>2015-12-30 21:14:29</td>\n",
       "      <td>2015-12-31 20:45:43</td>\n",
       "    </tr>\n",
       "    <tr>\n",
       "      <td>6</td>\n",
       "      <td>7</td>\n",
       "      <td>NaN</td>\n",
       "      <td>2015-01-02 17:10:31</td>\n",
       "      <td>2015-01-05 17:02:19</td>\n",
       "      <td>2015-01-06 17:04:47</td>\n",
       "      <td>2015-01-07 16:11:37</td>\n",
       "      <td>2015-01-08 17:01:52</td>\n",
       "      <td>2015-01-09 17:23:17</td>\n",
       "      <td>2015-01-12 16:04:41</td>\n",
       "      <td>2015-01-13 16:55:05</td>\n",
       "      <td>...</td>\n",
       "      <td>2015-12-18 17:39:13</td>\n",
       "      <td>2015-12-21 16:29:19</td>\n",
       "      <td>NaN</td>\n",
       "      <td>2015-12-23 17:19:40</td>\n",
       "      <td>2015-12-24 17:19:19</td>\n",
       "      <td>NaN</td>\n",
       "      <td>2015-12-28 16:52:09</td>\n",
       "      <td>2015-12-29 16:48:00</td>\n",
       "      <td>2015-12-30 17:08:59</td>\n",
       "      <td>2015-12-31 16:56:25</td>\n",
       "    </tr>\n",
       "    <tr>\n",
       "      <td>7</td>\n",
       "      <td>8</td>\n",
       "      <td>NaN</td>\n",
       "      <td>2015-01-02 17:02:35</td>\n",
       "      <td>2015-01-05 16:52:09</td>\n",
       "      <td>2015-01-06 16:33:13</td>\n",
       "      <td>2015-01-07 16:42:05</td>\n",
       "      <td>2015-01-08 16:18:14</td>\n",
       "      <td>2015-01-09 16:49:56</td>\n",
       "      <td>2015-01-12 16:41:14</td>\n",
       "      <td>2015-01-13 16:26:12</td>\n",
       "      <td>...</td>\n",
       "      <td>2015-12-18 17:20:14</td>\n",
       "      <td>2015-12-21 17:16:25</td>\n",
       "      <td>2015-12-22 17:37:19</td>\n",
       "      <td>2015-12-23 16:33:44</td>\n",
       "      <td>2015-12-24 16:23:30</td>\n",
       "      <td>NaN</td>\n",
       "      <td>2015-12-28 16:16:24</td>\n",
       "      <td>2015-12-29 17:09:49</td>\n",
       "      <td>2015-12-30 16:20:00</td>\n",
       "      <td>2015-12-31 17:12:02</td>\n",
       "    </tr>\n",
       "    <tr>\n",
       "      <td>8</td>\n",
       "      <td>9</td>\n",
       "      <td>NaN</td>\n",
       "      <td>NaN</td>\n",
       "      <td>2015-01-05 17:00:43</td>\n",
       "      <td>2015-01-06 17:10:01</td>\n",
       "      <td>2015-01-07 17:36:23</td>\n",
       "      <td>2015-01-08 17:30:35</td>\n",
       "      <td>2015-01-09 17:19:58</td>\n",
       "      <td>2015-01-12 17:14:54</td>\n",
       "      <td>NaN</td>\n",
       "      <td>...</td>\n",
       "      <td>2015-12-18 16:54:59</td>\n",
       "      <td>2015-12-21 17:29:59</td>\n",
       "      <td>2015-12-22 16:58:51</td>\n",
       "      <td>2015-12-23 17:10:38</td>\n",
       "      <td>2015-12-24 16:47:09</td>\n",
       "      <td>NaN</td>\n",
       "      <td>NaN</td>\n",
       "      <td>2015-12-29 17:12:18</td>\n",
       "      <td>2015-12-30 17:24:51</td>\n",
       "      <td>2015-12-31 16:32:40</td>\n",
       "    </tr>\n",
       "    <tr>\n",
       "      <td>9</td>\n",
       "      <td>10</td>\n",
       "      <td>NaN</td>\n",
       "      <td>2015-01-02 17:17:31</td>\n",
       "      <td>2015-01-05 17:27:11</td>\n",
       "      <td>2015-01-06 17:33:55</td>\n",
       "      <td>2015-01-07 17:15:12</td>\n",
       "      <td>2015-01-08 16:42:03</td>\n",
       "      <td>2015-01-09 16:37:48</td>\n",
       "      <td>2015-01-12 17:54:23</td>\n",
       "      <td>2015-01-13 17:21:32</td>\n",
       "      <td>...</td>\n",
       "      <td>2015-12-18 17:20:04</td>\n",
       "      <td>2015-12-21 16:46:26</td>\n",
       "      <td>2015-12-22 17:38:33</td>\n",
       "      <td>2015-12-23 17:14:07</td>\n",
       "      <td>2015-12-24 17:40:42</td>\n",
       "      <td>NaN</td>\n",
       "      <td>2015-12-28 17:18:11</td>\n",
       "      <td>2015-12-29 16:52:08</td>\n",
       "      <td>2015-12-30 17:23:21</td>\n",
       "      <td>2015-12-31 17:03:09</td>\n",
       "    </tr>\n",
       "  </tbody>\n",
       "</table>\n",
       "<p>10 rows × 262 columns</p>\n",
       "</div>"
      ],
      "text/plain": [
       "   Unnamed: 0  2015-01-01           2015-01-02           2015-01-05  \\\n",
       "0           1         NaN  2015-01-02 16:56:15  2015-01-05 17:20:11   \n",
       "1           2         NaN  2015-01-02 18:22:17  2015-01-05 17:48:22   \n",
       "2           3         NaN  2015-01-02 16:59:14  2015-01-05 17:06:46   \n",
       "3           4         NaN  2015-01-02 17:25:24  2015-01-05 17:14:03   \n",
       "4           5         NaN  2015-01-02 18:31:37  2015-01-05 17:49:15   \n",
       "5           6         NaN  2015-01-02 20:29:54  2015-01-05 20:57:19   \n",
       "6           7         NaN  2015-01-02 17:10:31  2015-01-05 17:02:19   \n",
       "7           8         NaN  2015-01-02 17:02:35  2015-01-05 16:52:09   \n",
       "8           9         NaN                  NaN  2015-01-05 17:00:43   \n",
       "9          10         NaN  2015-01-02 17:17:31  2015-01-05 17:27:11   \n",
       "\n",
       "            2015-01-06           2015-01-07           2015-01-08  \\\n",
       "0  2015-01-06 17:19:05  2015-01-07 16:34:55  2015-01-08 17:08:32   \n",
       "1                  NaN  2015-01-07 17:09:06  2015-01-08 17:34:04   \n",
       "2  2015-01-06 16:38:32  2015-01-07 16:33:21  2015-01-08 17:24:22   \n",
       "3  2015-01-06 17:07:42  2015-01-07 16:32:40  2015-01-08 16:53:11   \n",
       "4  2015-01-06 17:26:25  2015-01-07 17:37:59  2015-01-08 17:59:28   \n",
       "5  2015-01-06 21:06:31  2015-01-07 20:36:10  2015-01-08 21:33:43   \n",
       "6  2015-01-06 17:04:47  2015-01-07 16:11:37  2015-01-08 17:01:52   \n",
       "7  2015-01-06 16:33:13  2015-01-07 16:42:05  2015-01-08 16:18:14   \n",
       "8  2015-01-06 17:10:01  2015-01-07 17:36:23  2015-01-08 17:30:35   \n",
       "9  2015-01-06 17:33:55  2015-01-07 17:15:12  2015-01-08 16:42:03   \n",
       "\n",
       "            2015-01-09           2015-01-12           2015-01-13  ...  \\\n",
       "0  2015-01-09 17:38:29  2015-01-12 16:58:39  2015-01-13 18:02:58  ...   \n",
       "1  2015-01-09 16:52:29  2015-01-12 17:36:48  2015-01-13 18:00:13  ...   \n",
       "2  2015-01-09 16:57:30  2015-01-12 17:28:54  2015-01-13 17:21:25  ...   \n",
       "3  2015-01-09 17:19:47  2015-01-12 17:13:37  2015-01-13 17:11:45  ...   \n",
       "4  2015-01-09 17:44:08  2015-01-12 18:51:21  2015-01-13 18:14:58  ...   \n",
       "5  2015-01-09 21:25:12  2015-01-12 20:38:47  2015-01-13 20:10:38  ...   \n",
       "6  2015-01-09 17:23:17  2015-01-12 16:04:41  2015-01-13 16:55:05  ...   \n",
       "7  2015-01-09 16:49:56  2015-01-12 16:41:14  2015-01-13 16:26:12  ...   \n",
       "8  2015-01-09 17:19:58  2015-01-12 17:14:54                  NaN  ...   \n",
       "9  2015-01-09 16:37:48  2015-01-12 17:54:23  2015-01-13 17:21:32  ...   \n",
       "\n",
       "            2015-12-18           2015-12-21           2015-12-22  \\\n",
       "0                  NaN  2015-12-21 17:15:50  2015-12-22 17:27:51   \n",
       "1  2015-12-18 18:31:28  2015-12-21 17:34:16  2015-12-22 18:16:35   \n",
       "2  2015-12-18 17:02:23  2015-12-21 17:20:17  2015-12-22 16:32:50   \n",
       "3  2015-12-18 17:55:23  2015-12-21 16:49:09  2015-12-22 17:24:00   \n",
       "4  2015-12-18 17:52:48  2015-12-21 17:43:35  2015-12-22 18:07:57   \n",
       "5  2015-12-18 20:58:47  2015-12-21 20:48:45  2015-12-22 20:46:45   \n",
       "6  2015-12-18 17:39:13  2015-12-21 16:29:19                  NaN   \n",
       "7  2015-12-18 17:20:14  2015-12-21 17:16:25  2015-12-22 17:37:19   \n",
       "8  2015-12-18 16:54:59  2015-12-21 17:29:59  2015-12-22 16:58:51   \n",
       "9  2015-12-18 17:20:04  2015-12-21 16:46:26  2015-12-22 17:38:33   \n",
       "\n",
       "            2015-12-23           2015-12-24 2015-12-25           2015-12-28  \\\n",
       "0  2015-12-23 16:44:44  2015-12-24 17:47:22        NaN  2015-12-28 18:00:07   \n",
       "1  2015-12-23 17:38:18                  NaN        NaN  2015-12-28 17:08:38   \n",
       "2  2015-12-23 16:59:43  2015-12-24 16:58:25        NaN  2015-12-28 16:43:31   \n",
       "3  2015-12-23 17:36:35  2015-12-24 16:48:21        NaN  2015-12-28 17:19:34   \n",
       "4  2015-12-23 18:00:49  2015-12-24 17:59:22        NaN  2015-12-28 17:44:59   \n",
       "5  2015-12-23 20:51:06  2015-12-24 20:06:50        NaN                  NaN   \n",
       "6  2015-12-23 17:19:40  2015-12-24 17:19:19        NaN  2015-12-28 16:52:09   \n",
       "7  2015-12-23 16:33:44  2015-12-24 16:23:30        NaN  2015-12-28 16:16:24   \n",
       "8  2015-12-23 17:10:38  2015-12-24 16:47:09        NaN                  NaN   \n",
       "9  2015-12-23 17:14:07  2015-12-24 17:40:42        NaN  2015-12-28 17:18:11   \n",
       "\n",
       "            2015-12-29           2015-12-30           2015-12-31  \n",
       "0  2015-12-29 17:22:30  2015-12-30 17:40:56  2015-12-31 17:17:33  \n",
       "1  2015-12-29 17:54:46  2015-12-30 18:31:35  2015-12-31 17:40:58  \n",
       "2  2015-12-29 17:09:56  2015-12-30 17:06:25  2015-12-31 17:15:50  \n",
       "3  2015-12-29 16:58:16  2015-12-30 17:40:11  2015-12-31 17:09:14  \n",
       "4  2015-12-29 18:47:00  2015-12-30 17:15:33  2015-12-31 17:42:14  \n",
       "5  2015-12-29 20:45:24  2015-12-30 21:14:29  2015-12-31 20:45:43  \n",
       "6  2015-12-29 16:48:00  2015-12-30 17:08:59  2015-12-31 16:56:25  \n",
       "7  2015-12-29 17:09:49  2015-12-30 16:20:00  2015-12-31 17:12:02  \n",
       "8  2015-12-29 17:12:18  2015-12-30 17:24:51  2015-12-31 16:32:40  \n",
       "9  2015-12-29 16:52:08  2015-12-30 17:23:21  2015-12-31 17:03:09  \n",
       "\n",
       "[10 rows x 262 columns]"
      ]
     },
     "execution_count": 5,
     "metadata": {},
     "output_type": "execute_result"
    }
   ],
   "source": [
    "outTime = pd.read_csv(\"data/out_time.csv\")\n",
    "outTime.head(10)"
   ]
  },
  {
   "cell_type": "markdown",
   "metadata": {},
   "source": [
    "## Manager survey data - wyniki ankiety na temat przełożonego\n",
    "Tabela zawiera wyniki ankiety na temat opinii pracowników co do bezpośrednich przełożonych.\n",
    "- **EmployeeID** - id pracownika\n",
    "- **JobInvolvement** - Poziom zaangażowania managera w wykonywane obowiązki (1 - 'Low', 2 - 'Medium', 3 - 'High', 4 - 'Very High')\n",
    "- **PerformanceRating** - Ocena wydajności managera za ostatni rok (1 - 'Low', 2 - 'Good', 3 - 'Excellent', 4 - 'Outstanding')"
   ]
  },
  {
   "cell_type": "code",
   "execution_count": 6,
   "metadata": {},
   "outputs": [
    {
     "data": {
      "text/html": [
       "<div>\n",
       "<style scoped>\n",
       "    .dataframe tbody tr th:only-of-type {\n",
       "        vertical-align: middle;\n",
       "    }\n",
       "\n",
       "    .dataframe tbody tr th {\n",
       "        vertical-align: top;\n",
       "    }\n",
       "\n",
       "    .dataframe thead th {\n",
       "        text-align: right;\n",
       "    }\n",
       "</style>\n",
       "<table border=\"1\" class=\"dataframe\">\n",
       "  <thead>\n",
       "    <tr style=\"text-align: right;\">\n",
       "      <th></th>\n",
       "      <th>EmployeeID</th>\n",
       "      <th>JobInvolvement</th>\n",
       "      <th>PerformanceRating</th>\n",
       "    </tr>\n",
       "  </thead>\n",
       "  <tbody>\n",
       "    <tr>\n",
       "      <td>0</td>\n",
       "      <td>1</td>\n",
       "      <td>3</td>\n",
       "      <td>3</td>\n",
       "    </tr>\n",
       "    <tr>\n",
       "      <td>1</td>\n",
       "      <td>2</td>\n",
       "      <td>2</td>\n",
       "      <td>4</td>\n",
       "    </tr>\n",
       "    <tr>\n",
       "      <td>2</td>\n",
       "      <td>3</td>\n",
       "      <td>3</td>\n",
       "      <td>3</td>\n",
       "    </tr>\n",
       "    <tr>\n",
       "      <td>3</td>\n",
       "      <td>4</td>\n",
       "      <td>2</td>\n",
       "      <td>3</td>\n",
       "    </tr>\n",
       "    <tr>\n",
       "      <td>4</td>\n",
       "      <td>5</td>\n",
       "      <td>3</td>\n",
       "      <td>3</td>\n",
       "    </tr>\n",
       "    <tr>\n",
       "      <td>5</td>\n",
       "      <td>6</td>\n",
       "      <td>3</td>\n",
       "      <td>3</td>\n",
       "    </tr>\n",
       "    <tr>\n",
       "      <td>6</td>\n",
       "      <td>7</td>\n",
       "      <td>3</td>\n",
       "      <td>4</td>\n",
       "    </tr>\n",
       "    <tr>\n",
       "      <td>7</td>\n",
       "      <td>8</td>\n",
       "      <td>3</td>\n",
       "      <td>4</td>\n",
       "    </tr>\n",
       "    <tr>\n",
       "      <td>8</td>\n",
       "      <td>9</td>\n",
       "      <td>3</td>\n",
       "      <td>4</td>\n",
       "    </tr>\n",
       "    <tr>\n",
       "      <td>9</td>\n",
       "      <td>10</td>\n",
       "      <td>3</td>\n",
       "      <td>3</td>\n",
       "    </tr>\n",
       "  </tbody>\n",
       "</table>\n",
       "</div>"
      ],
      "text/plain": [
       "   EmployeeID  JobInvolvement  PerformanceRating\n",
       "0           1               3                  3\n",
       "1           2               2                  4\n",
       "2           3               3                  3\n",
       "3           4               2                  3\n",
       "4           5               3                  3\n",
       "5           6               3                  3\n",
       "6           7               3                  4\n",
       "7           8               3                  4\n",
       "8           9               3                  4\n",
       "9          10               3                  3"
      ]
     },
     "execution_count": 6,
     "metadata": {},
     "output_type": "execute_result"
    }
   ],
   "source": [
    "managerSurveyData = pd.read_csv(\"data/manager_survey_data.csv\")\n",
    "managerSurveyData.head(10)"
   ]
  },
  {
   "cell_type": "markdown",
   "metadata": {},
   "source": [
    "# Kategoryzacja i czyszczenie danych\n",
    "## Tabela Employee Survey\n",
    "Przed przejściem do zastosowania regresji logistycznej na zadanym zbiorze danych należy odpowiednio przygotować zbiór danych. Najpierw należy przekształcić zmienne objaśniające nadając im wartości numeryczne oraz przygotować testowe i treningowe zbiory zmiennych objaśniających oraz zmiennej objaśnianej (Attrition). "
   ]
  },
  {
   "cell_type": "markdown",
   "metadata": {},
   "source": [
    "W pierwszym kroku przepisujemy dane z employeeSurvey do zbioru X, ponieważ dane są już obrobione. "
   ]
  },
  {
   "cell_type": "code",
   "execution_count": 7,
   "metadata": {
    "scrolled": true
   },
   "outputs": [
    {
     "data": {
      "text/html": [
       "<div>\n",
       "<style scoped>\n",
       "    .dataframe tbody tr th:only-of-type {\n",
       "        vertical-align: middle;\n",
       "    }\n",
       "\n",
       "    .dataframe tbody tr th {\n",
       "        vertical-align: top;\n",
       "    }\n",
       "\n",
       "    .dataframe thead th {\n",
       "        text-align: right;\n",
       "    }\n",
       "</style>\n",
       "<table border=\"1\" class=\"dataframe\">\n",
       "  <thead>\n",
       "    <tr style=\"text-align: right;\">\n",
       "      <th></th>\n",
       "      <th>EmployeeID</th>\n",
       "      <th>EnvironmentSatisfaction</th>\n",
       "      <th>JobSatisfaction</th>\n",
       "      <th>WorkLifeBalance</th>\n",
       "    </tr>\n",
       "  </thead>\n",
       "  <tbody>\n",
       "    <tr>\n",
       "      <td>0</td>\n",
       "      <td>1</td>\n",
       "      <td>3.0</td>\n",
       "      <td>4.0</td>\n",
       "      <td>2.0</td>\n",
       "    </tr>\n",
       "    <tr>\n",
       "      <td>1</td>\n",
       "      <td>2</td>\n",
       "      <td>3.0</td>\n",
       "      <td>2.0</td>\n",
       "      <td>4.0</td>\n",
       "    </tr>\n",
       "    <tr>\n",
       "      <td>2</td>\n",
       "      <td>3</td>\n",
       "      <td>2.0</td>\n",
       "      <td>2.0</td>\n",
       "      <td>1.0</td>\n",
       "    </tr>\n",
       "    <tr>\n",
       "      <td>3</td>\n",
       "      <td>4</td>\n",
       "      <td>4.0</td>\n",
       "      <td>4.0</td>\n",
       "      <td>3.0</td>\n",
       "    </tr>\n",
       "    <tr>\n",
       "      <td>4</td>\n",
       "      <td>5</td>\n",
       "      <td>4.0</td>\n",
       "      <td>1.0</td>\n",
       "      <td>3.0</td>\n",
       "    </tr>\n",
       "  </tbody>\n",
       "</table>\n",
       "</div>"
      ],
      "text/plain": [
       "   EmployeeID  EnvironmentSatisfaction  JobSatisfaction  WorkLifeBalance\n",
       "0           1                      3.0              4.0              2.0\n",
       "1           2                      3.0              2.0              4.0\n",
       "2           3                      2.0              2.0              1.0\n",
       "3           4                      4.0              4.0              3.0\n",
       "4           5                      4.0              1.0              3.0"
      ]
     },
     "execution_count": 7,
     "metadata": {},
     "output_type": "execute_result"
    }
   ],
   "source": [
    "X = employeeSurvey\n",
    "X.head()"
   ]
  },
  {
   "cell_type": "markdown",
   "metadata": {},
   "source": [
    "## Attrition"
   ]
  },
  {
   "cell_type": "markdown",
   "metadata": {},
   "source": [
    "Obrabiamy tabelę \"General Data\". Dodajemy do zbioru X kolumnę \"Attrition\". Po oczyszczeniu danych z pustych lub nieskonczonych wartości zostanie ona wydzielona wraz z kolumną EmployeeID, jako zbiór objaśniany (y). "
   ]
  },
  {
   "cell_type": "code",
   "execution_count": 8,
   "metadata": {},
   "outputs": [
    {
     "data": {
      "text/html": [
       "<div>\n",
       "<style scoped>\n",
       "    .dataframe tbody tr th:only-of-type {\n",
       "        vertical-align: middle;\n",
       "    }\n",
       "\n",
       "    .dataframe tbody tr th {\n",
       "        vertical-align: top;\n",
       "    }\n",
       "\n",
       "    .dataframe thead th {\n",
       "        text-align: right;\n",
       "    }\n",
       "</style>\n",
       "<table border=\"1\" class=\"dataframe\">\n",
       "  <thead>\n",
       "    <tr style=\"text-align: right;\">\n",
       "      <th></th>\n",
       "      <th>EmployeeID</th>\n",
       "      <th>Attrition</th>\n",
       "      <th>EnvironmentSatisfaction</th>\n",
       "      <th>JobSatisfaction</th>\n",
       "      <th>WorkLifeBalance</th>\n",
       "    </tr>\n",
       "  </thead>\n",
       "  <tbody>\n",
       "    <tr>\n",
       "      <td>0</td>\n",
       "      <td>1</td>\n",
       "      <td>0</td>\n",
       "      <td>3.0</td>\n",
       "      <td>4.0</td>\n",
       "      <td>2.0</td>\n",
       "    </tr>\n",
       "    <tr>\n",
       "      <td>1</td>\n",
       "      <td>2</td>\n",
       "      <td>1</td>\n",
       "      <td>3.0</td>\n",
       "      <td>2.0</td>\n",
       "      <td>4.0</td>\n",
       "    </tr>\n",
       "    <tr>\n",
       "      <td>2</td>\n",
       "      <td>3</td>\n",
       "      <td>0</td>\n",
       "      <td>2.0</td>\n",
       "      <td>2.0</td>\n",
       "      <td>1.0</td>\n",
       "    </tr>\n",
       "    <tr>\n",
       "      <td>3</td>\n",
       "      <td>4</td>\n",
       "      <td>0</td>\n",
       "      <td>4.0</td>\n",
       "      <td>4.0</td>\n",
       "      <td>3.0</td>\n",
       "    </tr>\n",
       "    <tr>\n",
       "      <td>4</td>\n",
       "      <td>5</td>\n",
       "      <td>0</td>\n",
       "      <td>4.0</td>\n",
       "      <td>1.0</td>\n",
       "      <td>3.0</td>\n",
       "    </tr>\n",
       "    <tr>\n",
       "      <td>...</td>\n",
       "      <td>...</td>\n",
       "      <td>...</td>\n",
       "      <td>...</td>\n",
       "      <td>...</td>\n",
       "      <td>...</td>\n",
       "    </tr>\n",
       "    <tr>\n",
       "      <td>4405</td>\n",
       "      <td>4406</td>\n",
       "      <td>0</td>\n",
       "      <td>4.0</td>\n",
       "      <td>1.0</td>\n",
       "      <td>3.0</td>\n",
       "    </tr>\n",
       "    <tr>\n",
       "      <td>4406</td>\n",
       "      <td>4407</td>\n",
       "      <td>0</td>\n",
       "      <td>4.0</td>\n",
       "      <td>4.0</td>\n",
       "      <td>3.0</td>\n",
       "    </tr>\n",
       "    <tr>\n",
       "      <td>4407</td>\n",
       "      <td>4408</td>\n",
       "      <td>0</td>\n",
       "      <td>1.0</td>\n",
       "      <td>3.0</td>\n",
       "      <td>3.0</td>\n",
       "    </tr>\n",
       "    <tr>\n",
       "      <td>4408</td>\n",
       "      <td>4409</td>\n",
       "      <td>0</td>\n",
       "      <td>4.0</td>\n",
       "      <td>1.0</td>\n",
       "      <td>3.0</td>\n",
       "    </tr>\n",
       "    <tr>\n",
       "      <td>4409</td>\n",
       "      <td>4410</td>\n",
       "      <td>0</td>\n",
       "      <td>1.0</td>\n",
       "      <td>3.0</td>\n",
       "      <td>NaN</td>\n",
       "    </tr>\n",
       "  </tbody>\n",
       "</table>\n",
       "<p>4410 rows × 5 columns</p>\n",
       "</div>"
      ],
      "text/plain": [
       "      EmployeeID  Attrition  EnvironmentSatisfaction  JobSatisfaction  \\\n",
       "0              1          0                      3.0              4.0   \n",
       "1              2          1                      3.0              2.0   \n",
       "2              3          0                      2.0              2.0   \n",
       "3              4          0                      4.0              4.0   \n",
       "4              5          0                      4.0              1.0   \n",
       "...          ...        ...                      ...              ...   \n",
       "4405        4406          0                      4.0              1.0   \n",
       "4406        4407          0                      4.0              4.0   \n",
       "4407        4408          0                      1.0              3.0   \n",
       "4408        4409          0                      4.0              1.0   \n",
       "4409        4410          0                      1.0              3.0   \n",
       "\n",
       "      WorkLifeBalance  \n",
       "0                 2.0  \n",
       "1                 4.0  \n",
       "2                 1.0  \n",
       "3                 3.0  \n",
       "4                 3.0  \n",
       "...               ...  \n",
       "4405              3.0  \n",
       "4406              3.0  \n",
       "4407              3.0  \n",
       "4408              3.0  \n",
       "4409              NaN  \n",
       "\n",
       "[4410 rows x 5 columns]"
      ]
     },
     "metadata": {},
     "output_type": "display_data"
    }
   ],
   "source": [
    "categorizedAttrition = generalData[\"Attrition\"].replace(\"No\", 0).replace(\"Yes\", 1)\n",
    "X.insert(1,\"Attrition\", categorizedAttrition)\n",
    "display(X)"
   ]
  },
  {
   "cell_type": "markdown",
   "metadata": {},
   "source": [
    "## Age\n",
    "Następnie kategoryzujemy dane, jednocześnie łącząc kolumny do zbioru X. \n",
    "Zaczynamy od kolumny Age z tabeli General Data."
   ]
  },
  {
   "cell_type": "code",
   "execution_count": 9,
   "metadata": {},
   "outputs": [
    {
     "data": {
      "text/plain": [
       "(array([171., 315., 672., 795., 765., 651., 393., 276., 231., 141.]),\n",
       " array([18. , 22.2, 26.4, 30.6, 34.8, 39. , 43.2, 47.4, 51.6, 55.8, 60. ]),\n",
       " <a list of 10 Patch objects>)"
      ]
     },
     "execution_count": 9,
     "metadata": {},
     "output_type": "execute_result"
    }
   ],
   "source": [
    "import matplotlib.pyplot as pp \n",
    "pp.hist(generalData[\"Age\"])"
   ]
  },
  {
   "cell_type": "markdown",
   "metadata": {},
   "source": [
    "Jak widać po rozkładzie zmiennych, w firmie dominują osoby w średnim wieku. Warto zatem podzielić zbiór na osoby młode (*young*) - od 18 do 32 lat, zapisane jako 0, w średnim wieku (*middle*, 33-46, oznaczone jako 1) i starsze (*old*, powyżej 46 roku życia, mające kategorię 2).  "
   ]
  },
  {
   "cell_type": "code",
   "execution_count": 10,
   "metadata": {},
   "outputs": [],
   "source": [
    "import numpy as np \n",
    "bins = [0, 32, 46, np.inf]\n",
    "names = [0, 1, 2]\n",
    "categorizedAge = pd.cut(generalData['Age'], bins, labels=names).astype(int)\n",
    "X = X.join(categorizedAge)"
   ]
  },
  {
   "cell_type": "code",
   "execution_count": 11,
   "metadata": {
    "scrolled": false
   },
   "outputs": [
    {
     "data": {
      "text/plain": [
       "(array([1548.,    0.,    0.,    0.,    0., 2142.,    0.,    0.,    0.,\n",
       "         720.]),\n",
       " array([0. , 0.2, 0.4, 0.6, 0.8, 1. , 1.2, 1.4, 1.6, 1.8, 2. ]),\n",
       " <a list of 10 Patch objects>)"
      ]
     },
     "execution_count": 11,
     "metadata": {},
     "output_type": "execute_result"
    },
    {
     "data": {
      "image/png": "[encoded data removed]",
      "text/plain": [
       "<Figure size 432x288 with 1 Axes>"
      ]
     },
     "metadata": {
      "needs_background": "light"
     },
     "output_type": "display_data"
    }
   ],
   "source": [
    "pp.hist(categorizedAge)"
   ]
  },
  {
   "cell_type": "markdown",
   "metadata": {},
   "source": [
    "## Business Travel"
   ]
  },
  {
   "cell_type": "markdown",
   "metadata": {},
   "source": [
    "Początkowo sprawdzamy, jakie wartości zawiera kolumna dotycząca podrózy biznesowych. Jak widać, przyjmuje ona jedynie 3 wartości, które zostaną skategoryzowane jako 0, 1, 2. "
   ]
  },
  {
   "cell_type": "code",
   "execution_count": 12,
   "metadata": {},
   "outputs": [
    {
     "data": {
      "text/plain": [
       "array(['Travel_Rarely', 'Travel_Frequently', 'Non-Travel'], dtype=object)"
      ]
     },
     "metadata": {},
     "output_type": "display_data"
    }
   ],
   "source": [
    "display(generalData[\"BusinessTravel\"].unique())"
   ]
  },
  {
   "cell_type": "code",
   "execution_count": 13,
   "metadata": {
    "scrolled": true
   },
   "outputs": [],
   "source": [
    "categorizedBusinessTravel = generalData[\"BusinessTravel\"].replace(['Non-Travel', 'Travel_Rarely', 'Travel_Frequently'],[0, 1, 2])\n",
    "X.insert(1,\"BusinessTravel\", categorizedBusinessTravel)"
   ]
  },
  {
   "cell_type": "markdown",
   "metadata": {},
   "source": [
    "## Department\n",
    "Analogicznie jak w przypadku podróży biznesowych, nazwy poszczególnych departamentów zostaną skategoryzowane jako Sales - 0, R&D - 1, HR - 2. "
   ]
  },
  {
   "cell_type": "code",
   "execution_count": 14,
   "metadata": {},
   "outputs": [
    {
     "data": {
      "text/plain": [
       "array(['Sales', 'Research & Development', 'Human Resources'], dtype=object)"
      ]
     },
     "metadata": {},
     "output_type": "display_data"
    }
   ],
   "source": [
    "display(generalData[\"Department\"].unique())"
   ]
  },
  {
   "cell_type": "code",
   "execution_count": 15,
   "metadata": {
    "scrolled": true
   },
   "outputs": [],
   "source": [
    "categorizedDepartment = generalData[\"Department\"].replace(['Sales', 'Research & Development', 'Human Resources'],[0, 1, 2])\n",
    "X.insert(1,\"Department\", categorizedBusinessTravel)"
   ]
  },
  {
   "cell_type": "markdown",
   "metadata": {},
   "source": [
    "## Distance From Home\n",
    "W kolejnym kroku należy skategoryzować odległość od domu. Zakres podany w kilometrach wynosi od 1 do 29 km. Na podstawie wykresu można podzielić tą drogę na trzy kategorie: za bliską odległość do pracy można przyjąć wartość od 1 do 5 km, średnią - od 6 do 14, a za dużą - od 15 km. Stworzone kategorie opiszemy etykietami 0, 1 i 2.  "
   ]
  },
  {
   "cell_type": "code",
   "execution_count": 16,
   "metadata": {
    "scrolled": true
   },
   "outputs": [
    {
     "data": {
      "text/plain": [
       "(array([624., 633., 252., 192., 195., 177., 252., 240., 255., 258.,  87.,\n",
       "         60.,  57.,  63.,   0.,  78.,  96.,  60.,  78.,  66.,  75.,  54.,\n",
       "         57.,  81.,  84.,  75.,  75.,  36.,  69.,  81.]),\n",
       " array([ 1.        ,  1.93333333,  2.86666667,  3.8       ,  4.73333333,\n",
       "         5.66666667,  6.6       ,  7.53333333,  8.46666667,  9.4       ,\n",
       "        10.33333333, 11.26666667, 12.2       , 13.13333333, 14.06666667,\n",
       "        15.        , 15.93333333, 16.86666667, 17.8       , 18.73333333,\n",
       "        19.66666667, 20.6       , 21.53333333, 22.46666667, 23.4       ,\n",
       "        24.33333333, 25.26666667, 26.2       , 27.13333333, 28.06666667,\n",
       "        29.        ]),\n",
       " <a list of 30 Patch objects>)"
      ]
     },
     "execution_count": 16,
     "metadata": {},
     "output_type": "execute_result"
    },
    {
     "data": {
      "image/png": "[encoded data removed]",
      "text/plain": [
       "<Figure size 432x288 with 1 Axes>"
      ]
     },
     "metadata": {
      "needs_background": "light"
     },
     "output_type": "display_data"
    }
   ],
   "source": [
    "pp.hist(generalData[\"DistanceFromHome\"], bins=30)"
   ]
  },
  {
   "cell_type": "code",
   "execution_count": 17,
   "metadata": {},
   "outputs": [],
   "source": [
    "bins = [0, 5, 14, np.inf]\n",
    "names = [0, 1, 2]\n",
    "categorizedDistanceFromHome = pd.cut(generalData['DistanceFromHome'], bins, labels=names).astype(int)\n",
    "X = X.join(categorizedDistanceFromHome)"
   ]
  },
  {
   "cell_type": "markdown",
   "metadata": {},
   "source": [
    "## Education oraz Education Field\n",
    "Zmienna Education jest już skategoryzowana, a etykiety mają wartość liczbową, a zatem można dodać ją do docelowego zbioru. W przypadu EducationField konieczna będzie zmiana etykiet na wartości liczbowe.\n",
    "- 0 - 'Life Sciences'\n",
    "- 1 - 'Other'\n",
    "- 2 - 'Medical'\n",
    "- 3 - 'Marketing'\n",
    "- 4 - 'Technical Degree' \n",
    "- 5 - 'Human Resources'"
   ]
  },
  {
   "cell_type": "code",
   "execution_count": 18,
   "metadata": {},
   "outputs": [],
   "source": [
    "X.insert(1,\"Education\", generalData[\"Education\"])"
   ]
  },
  {
   "cell_type": "code",
   "execution_count": 19,
   "metadata": {},
   "outputs": [
    {
     "data": {
      "text/plain": [
       "array(['Life Sciences', 'Other', 'Medical', 'Marketing',\n",
       "       'Technical Degree', 'Human Resources'], dtype=object)"
      ]
     },
     "metadata": {},
     "output_type": "display_data"
    }
   ],
   "source": [
    "display(generalData[\"EducationField\"].unique())"
   ]
  },
  {
   "cell_type": "code",
   "execution_count": 20,
   "metadata": {},
   "outputs": [],
   "source": [
    "categorizedEducationField = generalData[\"EducationField\"].replace(['Life Sciences', 'Other', 'Medical', 'Marketing', 'Technical Degree','Human Resources'],[0, 1, 2, 3, 4, 5])\n",
    "X.insert(1,\"EducationField\", categorizedEducationField)"
   ]
  },
  {
   "cell_type": "markdown",
   "metadata": {},
   "source": [
    "## EmployeeCount\n",
    "Każdy profil jest unikatowy, a zatem można pominąć kolumnę EmployeeCount."
   ]
  },
  {
   "cell_type": "code",
   "execution_count": 21,
   "metadata": {},
   "outputs": [
    {
     "data": {
      "text/plain": [
       "array([1])"
      ]
     },
     "metadata": {},
     "output_type": "display_data"
    }
   ],
   "source": [
    "display(generalData[\"EmployeeCount\"].unique())"
   ]
  },
  {
   "cell_type": "markdown",
   "metadata": {},
   "source": [
    "## Gender \n",
    "Należy zakodować płeć - \"0\" dla mężczyzny i \"1\" dla kobiety."
   ]
  },
  {
   "cell_type": "code",
   "execution_count": 22,
   "metadata": {},
   "outputs": [
    {
     "data": {
      "text/plain": [
       "array(['Female', 'Male'], dtype=object)"
      ]
     },
     "metadata": {},
     "output_type": "display_data"
    }
   ],
   "source": [
    "display(generalData[\"Gender\"].unique())"
   ]
  },
  {
   "cell_type": "code",
   "execution_count": 23,
   "metadata": {},
   "outputs": [],
   "source": [
    "categorizedGender = generalData[\"Gender\"].replace(['Male', 'Female'],[0, 1])\n",
    "X.insert(1,\"Gender\", categorizedGender)"
   ]
  },
  {
   "cell_type": "markdown",
   "metadata": {},
   "source": [
    "## Job Level i Job Role\n",
    "JobLevel - Zajmowana pozycja w firmie (szczebel) w skali od 1 do 5 jest już odpowiednio skategoryzowana. "
   ]
  },
  {
   "cell_type": "code",
   "execution_count": 24,
   "metadata": {},
   "outputs": [],
   "source": [
    "X.insert(1,\"JobLevel\", generalData[\"JobLevel\"])"
   ]
  },
  {
   "cell_type": "markdown",
   "metadata": {},
   "source": [
    "JobRole - Nazwa zajmowanej pozycji, sategoryzowana następująco:\n",
    "- 0 - 'Healthcare Representative', \n",
    "- 1 - 'Research Scientist',\n",
    "- 2 - 'Sales Executive',\n",
    "- 3 - 'Human Resources',\n",
    "- 4 - 'Research Director',\n",
    "- 5 - 'Laboratory Technician',\n",
    "- 6 - 'Manufacturing Director',\n",
    "- 7 - 'Sales Representative',\n",
    "- 8 - 'Manager'"
   ]
  },
  {
   "cell_type": "code",
   "execution_count": 25,
   "metadata": {
    "scrolled": true
   },
   "outputs": [
    {
     "data": {
      "text/plain": [
       "array(['Healthcare Representative', 'Research Scientist',\n",
       "       'Sales Executive', 'Human Resources', 'Research Director',\n",
       "       'Laboratory Technician', 'Manufacturing Director',\n",
       "       'Sales Representative', 'Manager'], dtype=object)"
      ]
     },
     "metadata": {},
     "output_type": "display_data"
    }
   ],
   "source": [
    "display(generalData[\"JobRole\"].unique())"
   ]
  },
  {
   "cell_type": "code",
   "execution_count": 26,
   "metadata": {
    "scrolled": true
   },
   "outputs": [],
   "source": [
    "categorizedJobRole = generalData[\"JobRole\"].replace(['Healthcare Representative', 'Research Scientist',  'Sales Executive', 'Human Resources', 'Research Director', 'Laboratory Technician', 'Manufacturing Director', 'Sales Representative', 'Manager']\n",
    "    ,[0, 1, 2, 3, 4, 5, 6, 7, 8])\n",
    "X.insert(1,\"JobRole\", categorizedJobRole)"
   ]
  },
  {
   "cell_type": "markdown",
   "metadata": {},
   "source": [
    "## MaritalStatus \n",
    "Stan cywilny ponownie zostanie odpowiednio zakodowany (\"Kawaler\" - 0, \"Zamężny\" - 1, \"Rozwodnik\" - 2)."
   ]
  },
  {
   "cell_type": "code",
   "execution_count": 27,
   "metadata": {},
   "outputs": [
    {
     "data": {
      "text/plain": [
       "array(['Married', 'Single', 'Divorced'], dtype=object)"
      ]
     },
     "metadata": {},
     "output_type": "display_data"
    }
   ],
   "source": [
    "display(generalData[\"MaritalStatus\"].unique())"
   ]
  },
  {
   "cell_type": "code",
   "execution_count": 28,
   "metadata": {},
   "outputs": [],
   "source": [
    "categorizedMaritalStatus = generalData[\"MaritalStatus\"].replace([\"Single\", \"Married\", \"Divorced\"] ,[0, 1, 2])\n",
    "X.insert(1,\"MaritalStatus\", categorizedMaritalStatus)"
   ]
  },
  {
   "cell_type": "code",
   "execution_count": 29,
   "metadata": {},
   "outputs": [
    {
     "data": {
      "text/html": [
       "<div>\n",
       "<style scoped>\n",
       "    .dataframe tbody tr th:only-of-type {\n",
       "        vertical-align: middle;\n",
       "    }\n",
       "\n",
       "    .dataframe tbody tr th {\n",
       "        vertical-align: top;\n",
       "    }\n",
       "\n",
       "    .dataframe thead th {\n",
       "        text-align: right;\n",
       "    }\n",
       "</style>\n",
       "<table border=\"1\" class=\"dataframe\">\n",
       "  <thead>\n",
       "    <tr style=\"text-align: right;\">\n",
       "      <th></th>\n",
       "      <th>EmployeeID</th>\n",
       "      <th>MaritalStatus</th>\n",
       "      <th>JobRole</th>\n",
       "      <th>JobLevel</th>\n",
       "      <th>Gender</th>\n",
       "      <th>EducationField</th>\n",
       "      <th>Education</th>\n",
       "      <th>Department</th>\n",
       "      <th>BusinessTravel</th>\n",
       "      <th>Attrition</th>\n",
       "      <th>EnvironmentSatisfaction</th>\n",
       "      <th>JobSatisfaction</th>\n",
       "      <th>WorkLifeBalance</th>\n",
       "      <th>Age</th>\n",
       "      <th>DistanceFromHome</th>\n",
       "    </tr>\n",
       "  </thead>\n",
       "  <tbody>\n",
       "    <tr>\n",
       "      <td>0</td>\n",
       "      <td>1</td>\n",
       "      <td>1</td>\n",
       "      <td>0</td>\n",
       "      <td>1</td>\n",
       "      <td>1</td>\n",
       "      <td>0</td>\n",
       "      <td>2</td>\n",
       "      <td>1</td>\n",
       "      <td>1</td>\n",
       "      <td>0</td>\n",
       "      <td>3.0</td>\n",
       "      <td>4.0</td>\n",
       "      <td>2.0</td>\n",
       "      <td>2</td>\n",
       "      <td>1</td>\n",
       "    </tr>\n",
       "    <tr>\n",
       "      <td>1</td>\n",
       "      <td>2</td>\n",
       "      <td>0</td>\n",
       "      <td>1</td>\n",
       "      <td>1</td>\n",
       "      <td>1</td>\n",
       "      <td>0</td>\n",
       "      <td>1</td>\n",
       "      <td>2</td>\n",
       "      <td>2</td>\n",
       "      <td>1</td>\n",
       "      <td>3.0</td>\n",
       "      <td>2.0</td>\n",
       "      <td>4.0</td>\n",
       "      <td>0</td>\n",
       "      <td>1</td>\n",
       "    </tr>\n",
       "    <tr>\n",
       "      <td>2</td>\n",
       "      <td>3</td>\n",
       "      <td>1</td>\n",
       "      <td>2</td>\n",
       "      <td>4</td>\n",
       "      <td>0</td>\n",
       "      <td>1</td>\n",
       "      <td>4</td>\n",
       "      <td>2</td>\n",
       "      <td>2</td>\n",
       "      <td>0</td>\n",
       "      <td>2.0</td>\n",
       "      <td>2.0</td>\n",
       "      <td>1.0</td>\n",
       "      <td>0</td>\n",
       "      <td>2</td>\n",
       "    </tr>\n",
       "    <tr>\n",
       "      <td>3</td>\n",
       "      <td>4</td>\n",
       "      <td>1</td>\n",
       "      <td>3</td>\n",
       "      <td>3</td>\n",
       "      <td>0</td>\n",
       "      <td>0</td>\n",
       "      <td>5</td>\n",
       "      <td>0</td>\n",
       "      <td>0</td>\n",
       "      <td>0</td>\n",
       "      <td>4.0</td>\n",
       "      <td>4.0</td>\n",
       "      <td>3.0</td>\n",
       "      <td>1</td>\n",
       "      <td>0</td>\n",
       "    </tr>\n",
       "    <tr>\n",
       "      <td>4</td>\n",
       "      <td>5</td>\n",
       "      <td>0</td>\n",
       "      <td>2</td>\n",
       "      <td>1</td>\n",
       "      <td>0</td>\n",
       "      <td>2</td>\n",
       "      <td>1</td>\n",
       "      <td>1</td>\n",
       "      <td>1</td>\n",
       "      <td>0</td>\n",
       "      <td>4.0</td>\n",
       "      <td>1.0</td>\n",
       "      <td>3.0</td>\n",
       "      <td>0</td>\n",
       "      <td>1</td>\n",
       "    </tr>\n",
       "    <tr>\n",
       "      <td>...</td>\n",
       "      <td>...</td>\n",
       "      <td>...</td>\n",
       "      <td>...</td>\n",
       "      <td>...</td>\n",
       "      <td>...</td>\n",
       "      <td>...</td>\n",
       "      <td>...</td>\n",
       "      <td>...</td>\n",
       "      <td>...</td>\n",
       "      <td>...</td>\n",
       "      <td>...</td>\n",
       "      <td>...</td>\n",
       "      <td>...</td>\n",
       "      <td>...</td>\n",
       "      <td>...</td>\n",
       "    </tr>\n",
       "    <tr>\n",
       "      <td>4405</td>\n",
       "      <td>4406</td>\n",
       "      <td>0</td>\n",
       "      <td>1</td>\n",
       "      <td>1</td>\n",
       "      <td>1</td>\n",
       "      <td>2</td>\n",
       "      <td>4</td>\n",
       "      <td>1</td>\n",
       "      <td>1</td>\n",
       "      <td>0</td>\n",
       "      <td>4.0</td>\n",
       "      <td>1.0</td>\n",
       "      <td>3.0</td>\n",
       "      <td>1</td>\n",
       "      <td>0</td>\n",
       "    </tr>\n",
       "    <tr>\n",
       "      <td>4406</td>\n",
       "      <td>4407</td>\n",
       "      <td>2</td>\n",
       "      <td>5</td>\n",
       "      <td>1</td>\n",
       "      <td>0</td>\n",
       "      <td>2</td>\n",
       "      <td>4</td>\n",
       "      <td>1</td>\n",
       "      <td>1</td>\n",
       "      <td>0</td>\n",
       "      <td>4.0</td>\n",
       "      <td>4.0</td>\n",
       "      <td>3.0</td>\n",
       "      <td>0</td>\n",
       "      <td>0</td>\n",
       "    </tr>\n",
       "    <tr>\n",
       "      <td>4407</td>\n",
       "      <td>4408</td>\n",
       "      <td>1</td>\n",
       "      <td>2</td>\n",
       "      <td>2</td>\n",
       "      <td>0</td>\n",
       "      <td>0</td>\n",
       "      <td>2</td>\n",
       "      <td>1</td>\n",
       "      <td>1</td>\n",
       "      <td>0</td>\n",
       "      <td>1.0</td>\n",
       "      <td>3.0</td>\n",
       "      <td>3.0</td>\n",
       "      <td>0</td>\n",
       "      <td>2</td>\n",
       "    </tr>\n",
       "    <tr>\n",
       "      <td>4408</td>\n",
       "      <td>4409</td>\n",
       "      <td>2</td>\n",
       "      <td>5</td>\n",
       "      <td>1</td>\n",
       "      <td>0</td>\n",
       "      <td>2</td>\n",
       "      <td>2</td>\n",
       "      <td>1</td>\n",
       "      <td>1</td>\n",
       "      <td>0</td>\n",
       "      <td>4.0</td>\n",
       "      <td>1.0</td>\n",
       "      <td>3.0</td>\n",
       "      <td>1</td>\n",
       "      <td>2</td>\n",
       "    </tr>\n",
       "    <tr>\n",
       "      <td>4409</td>\n",
       "      <td>4410</td>\n",
       "      <td>2</td>\n",
       "      <td>5</td>\n",
       "      <td>2</td>\n",
       "      <td>0</td>\n",
       "      <td>2</td>\n",
       "      <td>3</td>\n",
       "      <td>1</td>\n",
       "      <td>1</td>\n",
       "      <td>0</td>\n",
       "      <td>1.0</td>\n",
       "      <td>3.0</td>\n",
       "      <td>NaN</td>\n",
       "      <td>1</td>\n",
       "      <td>2</td>\n",
       "    </tr>\n",
       "  </tbody>\n",
       "</table>\n",
       "<p>4410 rows × 15 columns</p>\n",
       "</div>"
      ],
      "text/plain": [
       "      EmployeeID  MaritalStatus  JobRole  JobLevel  Gender  EducationField  \\\n",
       "0              1              1        0         1       1               0   \n",
       "1              2              0        1         1       1               0   \n",
       "2              3              1        2         4       0               1   \n",
       "3              4              1        3         3       0               0   \n",
       "4              5              0        2         1       0               2   \n",
       "...          ...            ...      ...       ...     ...             ...   \n",
       "4405        4406              0        1         1       1               2   \n",
       "4406        4407              2        5         1       0               2   \n",
       "4407        4408              1        2         2       0               0   \n",
       "4408        4409              2        5         1       0               2   \n",
       "4409        4410              2        5         2       0               2   \n",
       "\n",
       "      Education  Department  BusinessTravel  Attrition  \\\n",
       "0             2           1               1          0   \n",
       "1             1           2               2          1   \n",
       "2             4           2               2          0   \n",
       "3             5           0               0          0   \n",
       "4             1           1               1          0   \n",
       "...         ...         ...             ...        ...   \n",
       "4405          4           1               1          0   \n",
       "4406          4           1               1          0   \n",
       "4407          2           1               1          0   \n",
       "4408          2           1               1          0   \n",
       "4409          3           1               1          0   \n",
       "\n",
       "      EnvironmentSatisfaction  JobSatisfaction  WorkLifeBalance  Age  \\\n",
       "0                         3.0              4.0              2.0    2   \n",
       "1                         3.0              2.0              4.0    0   \n",
       "2                         2.0              2.0              1.0    0   \n",
       "3                         4.0              4.0              3.0    1   \n",
       "4                         4.0              1.0              3.0    0   \n",
       "...                       ...              ...              ...  ...   \n",
       "4405                      4.0              1.0              3.0    1   \n",
       "4406                      4.0              4.0              3.0    0   \n",
       "4407                      1.0              3.0              3.0    0   \n",
       "4408                      4.0              1.0              3.0    1   \n",
       "4409                      1.0              3.0              NaN    1   \n",
       "\n",
       "      DistanceFromHome  \n",
       "0                    1  \n",
       "1                    1  \n",
       "2                    2  \n",
       "3                    0  \n",
       "4                    1  \n",
       "...                ...  \n",
       "4405                 0  \n",
       "4406                 0  \n",
       "4407                 2  \n",
       "4408                 2  \n",
       "4409                 2  \n",
       "\n",
       "[4410 rows x 15 columns]"
      ]
     },
     "metadata": {},
     "output_type": "display_data"
    }
   ],
   "source": [
    "display(X)"
   ]
  },
  {
   "cell_type": "markdown",
   "metadata": {},
   "source": [
    "## MonthlyIncome"
   ]
  },
  {
   "cell_type": "markdown",
   "metadata": {},
   "source": [
    "Miesięczny dochód w rupiach na miesiąc można ponownie podzielić na 3 kategorie: \n",
    "- 0 - osoby najbiedniejsze, zarabiające do 74000 INR, \n",
    "- 1 - zarobki  przeciętne, między 74k a 150k rupii,  \n",
    "- 2 - osoby najbogatsze, zarabiające ponad 150000 INR"
   ]
  },
  {
   "cell_type": "code",
   "execution_count": 30,
   "metadata": {},
   "outputs": [
    {
     "data": {
      "text/plain": [
       "(array([1095., 1047.,  870.,  327.,  330.,  168.,  156.,   54.,  162.,\n",
       "         201.]),\n",
       " array([ 10090.,  29080.,  48070.,  67060.,  86050., 105040., 124030.,\n",
       "        143020., 162010., 181000., 199990.]),\n",
       " <a list of 10 Patch objects>)"
      ]
     },
     "execution_count": 30,
     "metadata": {},
     "output_type": "execute_result"
    },
    {
     "data": {
      "image/png": "[encoded data removed]",
      "text/plain": [
       "<Figure size 432x288 with 1 Axes>"
      ]
     },
     "metadata": {
      "needs_background": "light"
     },
     "output_type": "display_data"
    }
   ],
   "source": [
    "pp.hist(generalData[\"MonthlyIncome\"])"
   ]
  },
  {
   "cell_type": "code",
   "execution_count": 31,
   "metadata": {},
   "outputs": [],
   "source": [
    "bins = [0, 74000, 150000, np.inf]\n",
    "names = [\"0\", \"1\", \"2\"]\n",
    "categorizedMonthlyIncome = pd.cut(generalData['MonthlyIncome'], bins, labels=names).astype(int)\n",
    "X = X.join(categorizedMonthlyIncome)"
   ]
  },
  {
   "cell_type": "markdown",
   "metadata": {},
   "source": [
    "## NumCompaniesWorked\n",
    "Łączna liczba firm, w których pracownik pracował. Zmienne przepisana bez zmian do zbioru X. "
   ]
  },
  {
   "cell_type": "code",
   "execution_count": 32,
   "metadata": {},
   "outputs": [],
   "source": [
    "X = X.join(generalData[\"NumCompaniesWorked\"])"
   ]
  },
  {
   "cell_type": "markdown",
   "metadata": {},
   "source": [
    "## Over18 - Czy pracownik ma ponad 18 lat (jest pełnoletni)?\n",
    "Ponieważ wszystkie osoby mają ponad 18 lat, zmienna nie jest istotna i nie zostanie włączona do modelu."
   ]
  },
  {
   "cell_type": "code",
   "execution_count": 33,
   "metadata": {},
   "outputs": [
    {
     "data": {
      "text/plain": [
       "array(['Y'], dtype=object)"
      ]
     },
     "metadata": {},
     "output_type": "display_data"
    }
   ],
   "source": [
    "display(generalData[\"Over18\"].unique())"
   ]
  },
  {
   "cell_type": "markdown",
   "metadata": {},
   "source": [
    "## PercentSalaryHike\t\n",
    "Bazując na wykresie podzielimy zbiór na osoby, które otrzymały podwyżkę do 15% włącznie i tych, dla których podwyżka była wyższa."
   ]
  },
  {
   "cell_type": "code",
   "execution_count": 34,
   "metadata": {},
   "outputs": [
    {
     "data": {
      "text/plain": [
       "(array([1224.,  627.,  906.,  234.,  246.,  495.,  165.,  312.,   84.,\n",
       "         117.]),\n",
       " array([11. , 12.4, 13.8, 15.2, 16.6, 18. , 19.4, 20.8, 22.2, 23.6, 25. ]),\n",
       " <a list of 10 Patch objects>)"
      ]
     },
     "execution_count": 34,
     "metadata": {},
     "output_type": "execute_result"
    },
    {
     "data": {
      "image/png": "[encoded data removed]",
      "text/plain": [
       "<Figure size 432x288 with 1 Axes>"
      ]
     },
     "metadata": {
      "needs_background": "light"
     },
     "output_type": "display_data"
    }
   ],
   "source": [
    "pp.hist(generalData[\"PercentSalaryHike\"])"
   ]
  },
  {
   "cell_type": "code",
   "execution_count": 35,
   "metadata": {},
   "outputs": [],
   "source": [
    "bins = [0, 15, np.inf]\n",
    "names = [0, 1]\n",
    "categorizedPercentSalaryHike = pd.cut(generalData['PercentSalaryHike'], bins, labels=names).astype(int)\n",
    "X = X.join(categorizedPercentSalaryHike)"
   ]
  },
  {
   "cell_type": "markdown",
   "metadata": {},
   "source": [
    "## StandardHours\n",
    "Ponieważ wszyscy pracownicy pracują na pełen etat, pomijamy tą zmienną. "
   ]
  },
  {
   "cell_type": "code",
   "execution_count": 36,
   "metadata": {},
   "outputs": [
    {
     "data": {
      "text/plain": [
       "array([8])"
      ]
     },
     "metadata": {},
     "output_type": "display_data"
    }
   ],
   "source": [
    "display(generalData[\"StandardHours\"].unique())"
   ]
  },
  {
   "cell_type": "markdown",
   "metadata": {},
   "source": [
    "## StockOptionLevel\n",
    "Zmienna nie zawiera wiele kategorii, dlatego dołączamy ją bez zmian. "
   ]
  },
  {
   "cell_type": "code",
   "execution_count": 37,
   "metadata": {},
   "outputs": [
    {
     "data": {
      "text/plain": [
       "array([0, 1, 3, 2])"
      ]
     },
     "metadata": {},
     "output_type": "display_data"
    }
   ],
   "source": [
    "display(generalData[\"StockOptionLevel\"].unique())\n",
    "X = X.join(generalData[\"StockOptionLevel\"])"
   ]
  },
  {
   "cell_type": "markdown",
   "metadata": {},
   "source": [
    "## TotalWorkingYear\n",
    "Patrząc na wykres można zauważyć podział pracowników na trzy grupy:\n",
    "- osoby młode, pracujące do 4 lat\n",
    "- osoby ze średnim stażem (dominująca grupa), od 5 do 10 lat doświadczenia\n",
    "- osoby doświadczone, ponad 10 lat  "
   ]
  },
  {
   "cell_type": "code",
   "execution_count": 38,
   "metadata": {},
   "outputs": [
    {
     "name": "stderr",
     "output_type": "stream",
     "text": [
      "/home/michal/anaconda3/lib/python3.7/site-packages/numpy/lib/histograms.py:829: RuntimeWarning: invalid value encountered in greater_equal\n",
      "  keep = (tmp_a >= first_edge)\n",
      "/home/michal/anaconda3/lib/python3.7/site-packages/numpy/lib/histograms.py:830: RuntimeWarning: invalid value encountered in less_equal\n",
      "  keep &= (tmp_a <= last_edge)\n"
     ]
    },
    {
     "data": {
      "text/plain": [
       "(array([ 494., 1071., 1305.,  465.,  357.,  319.,  159.,  120.,   72.,\n",
       "          39.]),\n",
       " array([ 0.,  4.,  8., 12., 16., 20., 24., 28., 32., 36., 40.]),\n",
       " <a list of 10 Patch objects>)"
      ]
     },
     "execution_count": 38,
     "metadata": {},
     "output_type": "execute_result"
    },
    {
     "data": {
      "image/png": "[encoded data removed]",
      "text/plain": [
       "<Figure size 432x288 with 1 Axes>"
      ]
     },
     "metadata": {
      "needs_background": "light"
     },
     "output_type": "display_data"
    }
   ],
   "source": [
    "pp.hist(generalData[\"TotalWorkingYears\"])"
   ]
  },
  {
   "cell_type": "code",
   "execution_count": 39,
   "metadata": {},
   "outputs": [],
   "source": [
    "bins = [0, 4, 10, 50]\n",
    "names = [0, 1, 2]\n",
    "categorizedTotalWorkingYears = pd.cut(generalData['TotalWorkingYears'], bins, labels=names).astype(int)\n",
    "X = X.join(categorizedTotalWorkingYears)"
   ]
  },
  {
   "cell_type": "markdown",
   "metadata": {},
   "source": [
    "## TrainingTimesLastYear\n",
    "Liczba odbytych treningów w ciągu roku można skateogryzować jako:\n",
    "- niska - 0 i 1 raz w roku, zakodowana jako 0\n",
    "- średnia - 2 - 4 treningów w roku, oznaczona jako 1\n",
    "- wysoka intensywność, zakodowana jako 2"
   ]
  },
  {
   "cell_type": "code",
   "execution_count": 40,
   "metadata": {},
   "outputs": [
    {
     "data": {
      "text/plain": [
       "(array([ 162.,  213.,    0., 1641.,    0., 1473.,  369.,    0.,  357.,\n",
       "         195.]),\n",
       " array([0. , 0.6, 1.2, 1.8, 2.4, 3. , 3.6, 4.2, 4.8, 5.4, 6. ]),\n",
       " <a list of 10 Patch objects>)"
      ]
     },
     "execution_count": 40,
     "metadata": {},
     "output_type": "execute_result"
    },
    {
     "data": {
      "image/png": "[encoded data removed]",
      "text/plain": [
       "<Figure size 432x288 with 1 Axes>"
      ]
     },
     "metadata": {
      "needs_background": "light"
     },
     "output_type": "display_data"
    }
   ],
   "source": [
    "pp.hist(generalData[\"TrainingTimesLastYear\"])"
   ]
  },
  {
   "cell_type": "code",
   "execution_count": 41,
   "metadata": {},
   "outputs": [],
   "source": [
    "bins = [0, 1, 4, 6]\n",
    "names = [0, 1, 2]\n",
    "categorizedTrainingTimesLastYear = pd.cut(generalData['TrainingTimesLastYear'], bins, labels=names).astype(int)\n",
    "X = X.join(categorizedTrainingTimesLastYear)"
   ]
  },
  {
   "cell_type": "markdown",
   "metadata": {},
   "source": [
    "## YearsAtCompany\n",
    "Liczba lat w firmie zostanie podzielona na dwie grupy - osoby które pracują do 10 lat oraz osoby ze stażem powyżej 10 lat. "
   ]
  },
  {
   "cell_type": "code",
   "execution_count": 42,
   "metadata": {},
   "outputs": [
    {
     "data": {
      "text/plain": [
       "(array([0.07993197, 0.08027211, 0.05340136, 0.01292517, 0.00765306,\n",
       "        0.00986395, 0.00272109, 0.00102041, 0.00153061, 0.00068027]),\n",
       " array([ 0.,  4.,  8., 12., 16., 20., 24., 28., 32., 36., 40.]),\n",
       " <a list of 10 Patch objects>)"
      ]
     },
     "execution_count": 42,
     "metadata": {},
     "output_type": "execute_result"
    },
    {
     "data": {
      "image/png": "[encoded data removed]",
      "text/plain": [
       "<Figure size 432x288 with 1 Axes>"
      ]
     },
     "metadata": {
      "needs_background": "light"
     },
     "output_type": "display_data"
    }
   ],
   "source": [
    "pp.hist(generalData[\"YearsAtCompany\"], density=20)"
   ]
  },
  {
   "cell_type": "code",
   "execution_count": 43,
   "metadata": {},
   "outputs": [],
   "source": [
    "bins = [0, 10, 50]\n",
    "names = [0, 1]\n",
    "categorizedYearsAtCompany = pd.cut(generalData['YearsAtCompany'], bins, labels=names).astype(int)\n",
    "X = X.join(categorizedYearsAtCompany)"
   ]
  },
  {
   "cell_type": "markdown",
   "metadata": {},
   "source": [
    "## YearsSinceLastPromotion\n",
    "Analogicznie lata od ostatniego awansu zostaną podzielone na trzy kategorie - do 2 lat włącznie, 2-7 lat i od 8 lat wzwyż."
   ]
  },
  {
   "cell_type": "code",
   "execution_count": 44,
   "metadata": {
    "scrolled": true
   },
   "outputs": [
    {
     "data": {
      "text/plain": [
       "(array([0.42539683, 0.07210884, 0.05124717, 0.02040816, 0.04897959,\n",
       "        0.00816327, 0.01043084, 0.01088435, 0.00907029, 0.00997732]),\n",
       " array([ 0. ,  1.5,  3. ,  4.5,  6. ,  7.5,  9. , 10.5, 12. , 13.5, 15. ]),\n",
       " <a list of 10 Patch objects>)"
      ]
     },
     "execution_count": 44,
     "metadata": {},
     "output_type": "execute_result"
    },
    {
     "data": {
      "image/png": "[encoded data removed]",
      "text/plain": [
       "<Figure size 432x288 with 1 Axes>"
      ]
     },
     "metadata": {
      "needs_background": "light"
     },
     "output_type": "display_data"
    }
   ],
   "source": [
    "pp.hist(generalData[\"YearsSinceLastPromotion\"], density=20)"
   ]
  },
  {
   "cell_type": "code",
   "execution_count": 45,
   "metadata": {},
   "outputs": [],
   "source": [
    "bins = [0, 2, 7, 30]\n",
    "names = [0, 1, 2]\n",
    "categorizedYearsSinceLastPromotion = pd.cut(generalData['YearsSinceLastPromotion'], bins, labels=names).astype(int)\n",
    "X = X.join(categorizedYearsSinceLastPromotion)"
   ]
  },
  {
   "cell_type": "markdown",
   "metadata": {},
   "source": [
    "## YearsWithCurrManager\n",
    "Podział na 2 grupy - 0 - 6 lat oraz 7 - 18 lat."
   ]
  },
  {
   "cell_type": "code",
   "execution_count": 46,
   "metadata": {
    "scrolled": true
   },
   "outputs": [
    {
     "data": {
      "text/plain": [
       "(array([0.13565426, 0.19447779, 0.05162065, 0.01160464, 0.1292517 ,\n",
       "        0.03641457, 0.00880352, 0.01280512, 0.0040016 , 0.00360144]),\n",
       " array([ 0. ,  1.7,  3.4,  5.1,  6.8,  8.5, 10.2, 11.9, 13.6, 15.3, 17. ]),\n",
       " <a list of 10 Patch objects>)"
      ]
     },
     "execution_count": 46,
     "metadata": {},
     "output_type": "execute_result"
    },
    {
     "data": {
      "image/png": "[encoded data removed]",
      "text/plain": [
       "<Figure size 432x288 with 1 Axes>"
      ]
     },
     "metadata": {
      "needs_background": "light"
     },
     "output_type": "display_data"
    }
   ],
   "source": [
    "pp.hist(generalData[\"YearsWithCurrManager\"], density=20)"
   ]
  },
  {
   "cell_type": "code",
   "execution_count": 47,
   "metadata": {},
   "outputs": [],
   "source": [
    "bins = [0, 6, 30]\n",
    "names = [0, 1]\n",
    "categorizedYearsWithCurrManager = pd.cut(generalData['YearsWithCurrManager'], bins, labels=names).astype(int)\n",
    "X = X.join(categorizedYearsWithCurrManager)"
   ]
  },
  {
   "cell_type": "markdown",
   "metadata": {},
   "source": [
    "## Tabela Manager Survey - zmienne JobInvolvement i PerformanceRating\n",
    "Zmienne zawarte w tableli dotyczącej opinii na temat managera są już odpowiednio zakodowane (przyjmują wartości liczbowe od 1 do 4), dlatego można bezpośrednio dołączyć je do zbioru X.  "
   ]
  },
  {
   "cell_type": "code",
   "execution_count": 48,
   "metadata": {},
   "outputs": [
    {
     "data": {
      "text/plain": [
       "array([3, 2, 1, 4])"
      ]
     },
     "metadata": {},
     "output_type": "display_data"
    }
   ],
   "source": [
    "display(managerSurveyData[\"JobInvolvement\"].unique())\n",
    "X = X.join(managerSurveyData[\"JobInvolvement\"])"
   ]
  },
  {
   "cell_type": "code",
   "execution_count": 49,
   "metadata": {},
   "outputs": [
    {
     "data": {
      "text/plain": [
       "array([3, 4])"
      ]
     },
     "metadata": {},
     "output_type": "display_data"
    }
   ],
   "source": [
    "display(managerSurveyData[\"PerformanceRating\"].unique())\n",
    "X = X.join(managerSurveyData[\"PerformanceRating\"])"
   ]
  },
  {
   "cell_type": "markdown",
   "metadata": {},
   "source": [
    "## Czyszczenie danych i podział na zbiory testowe i treningowe\n",
    "Przed przystąpieniem do tworzenia zbiorów: X i y, zarówno treningowego jak i testowego, należy dodatkowo oczyścić dane z pustych i nieskonczonych wartości. Początkowo zbiór zawierał 4410 obserwacji. Po usunięciu zbędnych wierszy zostało ich 4327.  "
   ]
  },
  {
   "cell_type": "code",
   "execution_count": 50,
   "metadata": {},
   "outputs": [
    {
     "data": {
      "text/html": [
       "<div>\n",
       "<style scoped>\n",
       "    .dataframe tbody tr th:only-of-type {\n",
       "        vertical-align: middle;\n",
       "    }\n",
       "\n",
       "    .dataframe tbody tr th {\n",
       "        vertical-align: top;\n",
       "    }\n",
       "\n",
       "    .dataframe thead th {\n",
       "        text-align: right;\n",
       "    }\n",
       "</style>\n",
       "<table border=\"1\" class=\"dataframe\">\n",
       "  <thead>\n",
       "    <tr style=\"text-align: right;\">\n",
       "      <th></th>\n",
       "      <th>EmployeeID</th>\n",
       "      <th>MaritalStatus</th>\n",
       "      <th>JobRole</th>\n",
       "      <th>JobLevel</th>\n",
       "      <th>Gender</th>\n",
       "      <th>EducationField</th>\n",
       "      <th>Education</th>\n",
       "      <th>Department</th>\n",
       "      <th>BusinessTravel</th>\n",
       "      <th>Attrition</th>\n",
       "      <th>...</th>\n",
       "      <th>NumCompaniesWorked</th>\n",
       "      <th>PercentSalaryHike</th>\n",
       "      <th>StockOptionLevel</th>\n",
       "      <th>TotalWorkingYears</th>\n",
       "      <th>TrainingTimesLastYear</th>\n",
       "      <th>YearsAtCompany</th>\n",
       "      <th>YearsSinceLastPromotion</th>\n",
       "      <th>YearsWithCurrManager</th>\n",
       "      <th>JobInvolvement</th>\n",
       "      <th>PerformanceRating</th>\n",
       "    </tr>\n",
       "  </thead>\n",
       "  <tbody>\n",
       "    <tr>\n",
       "      <td>1</td>\n",
       "      <td>2</td>\n",
       "      <td>0</td>\n",
       "      <td>1</td>\n",
       "      <td>1</td>\n",
       "      <td>1</td>\n",
       "      <td>0</td>\n",
       "      <td>1</td>\n",
       "      <td>2</td>\n",
       "      <td>2</td>\n",
       "      <td>1</td>\n",
       "      <td>...</td>\n",
       "      <td>0.0</td>\n",
       "      <td>1</td>\n",
       "      <td>1</td>\n",
       "      <td>1</td>\n",
       "      <td>1</td>\n",
       "      <td>0</td>\n",
       "      <td>0</td>\n",
       "      <td>0</td>\n",
       "      <td>2</td>\n",
       "      <td>4</td>\n",
       "    </tr>\n",
       "    <tr>\n",
       "      <td>3</td>\n",
       "      <td>4</td>\n",
       "      <td>1</td>\n",
       "      <td>3</td>\n",
       "      <td>3</td>\n",
       "      <td>0</td>\n",
       "      <td>0</td>\n",
       "      <td>5</td>\n",
       "      <td>0</td>\n",
       "      <td>0</td>\n",
       "      <td>0</td>\n",
       "      <td>...</td>\n",
       "      <td>3.0</td>\n",
       "      <td>0</td>\n",
       "      <td>3</td>\n",
       "      <td>2</td>\n",
       "      <td>2</td>\n",
       "      <td>0</td>\n",
       "      <td>1</td>\n",
       "      <td>0</td>\n",
       "      <td>2</td>\n",
       "      <td>3</td>\n",
       "    </tr>\n",
       "    <tr>\n",
       "      <td>5</td>\n",
       "      <td>6</td>\n",
       "      <td>1</td>\n",
       "      <td>4</td>\n",
       "      <td>4</td>\n",
       "      <td>1</td>\n",
       "      <td>0</td>\n",
       "      <td>3</td>\n",
       "      <td>1</td>\n",
       "      <td>1</td>\n",
       "      <td>0</td>\n",
       "      <td>...</td>\n",
       "      <td>3.0</td>\n",
       "      <td>0</td>\n",
       "      <td>0</td>\n",
       "      <td>2</td>\n",
       "      <td>2</td>\n",
       "      <td>0</td>\n",
       "      <td>1</td>\n",
       "      <td>1</td>\n",
       "      <td>3</td>\n",
       "      <td>3</td>\n",
       "    </tr>\n",
       "    <tr>\n",
       "      <td>8</td>\n",
       "      <td>9</td>\n",
       "      <td>1</td>\n",
       "      <td>5</td>\n",
       "      <td>3</td>\n",
       "      <td>0</td>\n",
       "      <td>0</td>\n",
       "      <td>3</td>\n",
       "      <td>1</td>\n",
       "      <td>1</td>\n",
       "      <td>0</td>\n",
       "      <td>...</td>\n",
       "      <td>0.0</td>\n",
       "      <td>1</td>\n",
       "      <td>0</td>\n",
       "      <td>1</td>\n",
       "      <td>1</td>\n",
       "      <td>0</td>\n",
       "      <td>1</td>\n",
       "      <td>1</td>\n",
       "      <td>3</td>\n",
       "      <td>4</td>\n",
       "    </tr>\n",
       "    <tr>\n",
       "      <td>9</td>\n",
       "      <td>10</td>\n",
       "      <td>2</td>\n",
       "      <td>5</td>\n",
       "      <td>4</td>\n",
       "      <td>1</td>\n",
       "      <td>2</td>\n",
       "      <td>4</td>\n",
       "      <td>0</td>\n",
       "      <td>0</td>\n",
       "      <td>0</td>\n",
       "      <td>...</td>\n",
       "      <td>1.0</td>\n",
       "      <td>0</td>\n",
       "      <td>1</td>\n",
       "      <td>1</td>\n",
       "      <td>1</td>\n",
       "      <td>0</td>\n",
       "      <td>0</td>\n",
       "      <td>0</td>\n",
       "      <td>3</td>\n",
       "      <td>3</td>\n",
       "    </tr>\n",
       "    <tr>\n",
       "      <td>...</td>\n",
       "      <td>...</td>\n",
       "      <td>...</td>\n",
       "      <td>...</td>\n",
       "      <td>...</td>\n",
       "      <td>...</td>\n",
       "      <td>...</td>\n",
       "      <td>...</td>\n",
       "      <td>...</td>\n",
       "      <td>...</td>\n",
       "      <td>...</td>\n",
       "      <td>...</td>\n",
       "      <td>...</td>\n",
       "      <td>...</td>\n",
       "      <td>...</td>\n",
       "      <td>...</td>\n",
       "      <td>...</td>\n",
       "      <td>...</td>\n",
       "      <td>...</td>\n",
       "      <td>...</td>\n",
       "      <td>...</td>\n",
       "      <td>...</td>\n",
       "    </tr>\n",
       "    <tr>\n",
       "      <td>4399</td>\n",
       "      <td>4400</td>\n",
       "      <td>1</td>\n",
       "      <td>2</td>\n",
       "      <td>1</td>\n",
       "      <td>1</td>\n",
       "      <td>1</td>\n",
       "      <td>3</td>\n",
       "      <td>1</td>\n",
       "      <td>1</td>\n",
       "      <td>0</td>\n",
       "      <td>...</td>\n",
       "      <td>6.0</td>\n",
       "      <td>0</td>\n",
       "      <td>0</td>\n",
       "      <td>2</td>\n",
       "      <td>1</td>\n",
       "      <td>1</td>\n",
       "      <td>1</td>\n",
       "      <td>1</td>\n",
       "      <td>2</td>\n",
       "      <td>3</td>\n",
       "    </tr>\n",
       "    <tr>\n",
       "      <td>4403</td>\n",
       "      <td>4404</td>\n",
       "      <td>0</td>\n",
       "      <td>6</td>\n",
       "      <td>1</td>\n",
       "      <td>1</td>\n",
       "      <td>2</td>\n",
       "      <td>3</td>\n",
       "      <td>2</td>\n",
       "      <td>2</td>\n",
       "      <td>0</td>\n",
       "      <td>...</td>\n",
       "      <td>0.0</td>\n",
       "      <td>1</td>\n",
       "      <td>1</td>\n",
       "      <td>2</td>\n",
       "      <td>1</td>\n",
       "      <td>1</td>\n",
       "      <td>2</td>\n",
       "      <td>1</td>\n",
       "      <td>3</td>\n",
       "      <td>3</td>\n",
       "    </tr>\n",
       "    <tr>\n",
       "      <td>4404</td>\n",
       "      <td>4405</td>\n",
       "      <td>0</td>\n",
       "      <td>3</td>\n",
       "      <td>2</td>\n",
       "      <td>1</td>\n",
       "      <td>1</td>\n",
       "      <td>3</td>\n",
       "      <td>1</td>\n",
       "      <td>1</td>\n",
       "      <td>0</td>\n",
       "      <td>...</td>\n",
       "      <td>1.0</td>\n",
       "      <td>1</td>\n",
       "      <td>0</td>\n",
       "      <td>1</td>\n",
       "      <td>1</td>\n",
       "      <td>0</td>\n",
       "      <td>0</td>\n",
       "      <td>0</td>\n",
       "      <td>2</td>\n",
       "      <td>3</td>\n",
       "    </tr>\n",
       "    <tr>\n",
       "      <td>4407</td>\n",
       "      <td>4408</td>\n",
       "      <td>1</td>\n",
       "      <td>2</td>\n",
       "      <td>2</td>\n",
       "      <td>0</td>\n",
       "      <td>0</td>\n",
       "      <td>2</td>\n",
       "      <td>1</td>\n",
       "      <td>1</td>\n",
       "      <td>0</td>\n",
       "      <td>...</td>\n",
       "      <td>0.0</td>\n",
       "      <td>1</td>\n",
       "      <td>0</td>\n",
       "      <td>1</td>\n",
       "      <td>1</td>\n",
       "      <td>0</td>\n",
       "      <td>0</td>\n",
       "      <td>0</td>\n",
       "      <td>3</td>\n",
       "      <td>4</td>\n",
       "    </tr>\n",
       "    <tr>\n",
       "      <td>4408</td>\n",
       "      <td>4409</td>\n",
       "      <td>2</td>\n",
       "      <td>5</td>\n",
       "      <td>1</td>\n",
       "      <td>0</td>\n",
       "      <td>2</td>\n",
       "      <td>2</td>\n",
       "      <td>1</td>\n",
       "      <td>1</td>\n",
       "      <td>0</td>\n",
       "      <td>...</td>\n",
       "      <td>0.0</td>\n",
       "      <td>0</td>\n",
       "      <td>1</td>\n",
       "      <td>1</td>\n",
       "      <td>1</td>\n",
       "      <td>0</td>\n",
       "      <td>1</td>\n",
       "      <td>1</td>\n",
       "      <td>2</td>\n",
       "      <td>3</td>\n",
       "    </tr>\n",
       "  </tbody>\n",
       "</table>\n",
       "<p>2344 rows × 26 columns</p>\n",
       "</div>"
      ],
      "text/plain": [
       "      EmployeeID  MaritalStatus  JobRole  JobLevel  Gender  EducationField  \\\n",
       "1              2              0        1         1       1               0   \n",
       "3              4              1        3         3       0               0   \n",
       "5              6              1        4         4       1               0   \n",
       "8              9              1        5         3       0               0   \n",
       "9             10              2        5         4       1               2   \n",
       "...          ...            ...      ...       ...     ...             ...   \n",
       "4399        4400              1        2         1       1               1   \n",
       "4403        4404              0        6         1       1               2   \n",
       "4404        4405              0        3         2       1               1   \n",
       "4407        4408              1        2         2       0               0   \n",
       "4408        4409              2        5         1       0               2   \n",
       "\n",
       "      Education  Department  BusinessTravel  Attrition  ...  \\\n",
       "1             1           2               2          1  ...   \n",
       "3             5           0               0          0  ...   \n",
       "5             3           1               1          0  ...   \n",
       "8             3           1               1          0  ...   \n",
       "9             4           0               0          0  ...   \n",
       "...         ...         ...             ...        ...  ...   \n",
       "4399          3           1               1          0  ...   \n",
       "4403          3           2               2          0  ...   \n",
       "4404          3           1               1          0  ...   \n",
       "4407          2           1               1          0  ...   \n",
       "4408          2           1               1          0  ...   \n",
       "\n",
       "      NumCompaniesWorked  PercentSalaryHike  StockOptionLevel  \\\n",
       "1                    0.0                  1                 1   \n",
       "3                    3.0                  0                 3   \n",
       "5                    3.0                  0                 0   \n",
       "8                    0.0                  1                 0   \n",
       "9                    1.0                  0                 1   \n",
       "...                  ...                ...               ...   \n",
       "4399                 6.0                  0                 0   \n",
       "4403                 0.0                  1                 1   \n",
       "4404                 1.0                  1                 0   \n",
       "4407                 0.0                  1                 0   \n",
       "4408                 0.0                  0                 1   \n",
       "\n",
       "      TotalWorkingYears  TrainingTimesLastYear  YearsAtCompany  \\\n",
       "1                     1                      1               0   \n",
       "3                     2                      2               0   \n",
       "5                     2                      2               0   \n",
       "8                     1                      1               0   \n",
       "9                     1                      1               0   \n",
       "...                 ...                    ...             ...   \n",
       "4399                  2                      1               1   \n",
       "4403                  2                      1               1   \n",
       "4404                  1                      1               0   \n",
       "4407                  1                      1               0   \n",
       "4408                  1                      1               0   \n",
       "\n",
       "      YearsSinceLastPromotion  YearsWithCurrManager  JobInvolvement  \\\n",
       "1                           0                     0               2   \n",
       "3                           1                     0               2   \n",
       "5                           1                     1               3   \n",
       "8                           1                     1               3   \n",
       "9                           0                     0               3   \n",
       "...                       ...                   ...             ...   \n",
       "4399                        1                     1               2   \n",
       "4403                        2                     1               3   \n",
       "4404                        0                     0               2   \n",
       "4407                        0                     0               3   \n",
       "4408                        1                     1               2   \n",
       "\n",
       "      PerformanceRating  \n",
       "1                     4  \n",
       "3                     3  \n",
       "5                     3  \n",
       "8                     4  \n",
       "9                     3  \n",
       "...                 ...  \n",
       "4399                  3  \n",
       "4403                  3  \n",
       "4404                  3  \n",
       "4407                  4  \n",
       "4408                  3  \n",
       "\n",
       "[2344 rows x 26 columns]"
      ]
     },
     "metadata": {},
     "output_type": "display_data"
    }
   ],
   "source": [
    "np.any(np.isnan(X))\n",
    "np.all(np.isfinite(X))\n",
    "X = X.dropna()\n",
    "X = X[~X.isin([np.nan, np.inf, -np.inf, -9223372036854775808]).any(1)]\n",
    "display(X)"
   ]
  },
  {
   "cell_type": "markdown",
   "metadata": {},
   "source": [
    "Następnie należy przygotować zbiór y, zawierający zmienną objaśnianą Attrition. Jednocześnie dzięki temu zbiór X zawiera będzie tylko zmienne objaśniające. "
   ]
  },
  {
   "cell_type": "code",
   "execution_count": 51,
   "metadata": {},
   "outputs": [
    {
     "data": {
      "text/plain": [
       "1    1\n",
       "3    0\n",
       "5    0\n",
       "8    0\n",
       "9    0\n",
       "Name: Attrition, dtype: int64"
      ]
     },
     "execution_count": 51,
     "metadata": {},
     "output_type": "execute_result"
    }
   ],
   "source": [
    "y = X['Attrition'].copy()  \n",
    "del X['Attrition']\n",
    "y.head()"
   ]
  },
  {
   "cell_type": "code",
   "execution_count": 52,
   "metadata": {},
   "outputs": [
    {
     "data": {
      "text/html": [
       "<div>\n",
       "<style scoped>\n",
       "    .dataframe tbody tr th:only-of-type {\n",
       "        vertical-align: middle;\n",
       "    }\n",
       "\n",
       "    .dataframe tbody tr th {\n",
       "        vertical-align: top;\n",
       "    }\n",
       "\n",
       "    .dataframe thead th {\n",
       "        text-align: right;\n",
       "    }\n",
       "</style>\n",
       "<table border=\"1\" class=\"dataframe\">\n",
       "  <thead>\n",
       "    <tr style=\"text-align: right;\">\n",
       "      <th></th>\n",
       "      <th>EmployeeID</th>\n",
       "      <th>MaritalStatus</th>\n",
       "      <th>JobRole</th>\n",
       "      <th>JobLevel</th>\n",
       "      <th>Gender</th>\n",
       "      <th>EducationField</th>\n",
       "      <th>Education</th>\n",
       "      <th>Department</th>\n",
       "      <th>BusinessTravel</th>\n",
       "      <th>EnvironmentSatisfaction</th>\n",
       "      <th>...</th>\n",
       "      <th>NumCompaniesWorked</th>\n",
       "      <th>PercentSalaryHike</th>\n",
       "      <th>StockOptionLevel</th>\n",
       "      <th>TotalWorkingYears</th>\n",
       "      <th>TrainingTimesLastYear</th>\n",
       "      <th>YearsAtCompany</th>\n",
       "      <th>YearsSinceLastPromotion</th>\n",
       "      <th>YearsWithCurrManager</th>\n",
       "      <th>JobInvolvement</th>\n",
       "      <th>PerformanceRating</th>\n",
       "    </tr>\n",
       "  </thead>\n",
       "  <tbody>\n",
       "    <tr>\n",
       "      <td>1</td>\n",
       "      <td>2</td>\n",
       "      <td>0</td>\n",
       "      <td>1</td>\n",
       "      <td>1</td>\n",
       "      <td>1</td>\n",
       "      <td>0</td>\n",
       "      <td>1</td>\n",
       "      <td>2</td>\n",
       "      <td>2</td>\n",
       "      <td>3.0</td>\n",
       "      <td>...</td>\n",
       "      <td>0.0</td>\n",
       "      <td>1</td>\n",
       "      <td>1</td>\n",
       "      <td>1</td>\n",
       "      <td>1</td>\n",
       "      <td>0</td>\n",
       "      <td>0</td>\n",
       "      <td>0</td>\n",
       "      <td>2</td>\n",
       "      <td>4</td>\n",
       "    </tr>\n",
       "    <tr>\n",
       "      <td>3</td>\n",
       "      <td>4</td>\n",
       "      <td>1</td>\n",
       "      <td>3</td>\n",
       "      <td>3</td>\n",
       "      <td>0</td>\n",
       "      <td>0</td>\n",
       "      <td>5</td>\n",
       "      <td>0</td>\n",
       "      <td>0</td>\n",
       "      <td>4.0</td>\n",
       "      <td>...</td>\n",
       "      <td>3.0</td>\n",
       "      <td>0</td>\n",
       "      <td>3</td>\n",
       "      <td>2</td>\n",
       "      <td>2</td>\n",
       "      <td>0</td>\n",
       "      <td>1</td>\n",
       "      <td>0</td>\n",
       "      <td>2</td>\n",
       "      <td>3</td>\n",
       "    </tr>\n",
       "    <tr>\n",
       "      <td>5</td>\n",
       "      <td>6</td>\n",
       "      <td>1</td>\n",
       "      <td>4</td>\n",
       "      <td>4</td>\n",
       "      <td>1</td>\n",
       "      <td>0</td>\n",
       "      <td>3</td>\n",
       "      <td>1</td>\n",
       "      <td>1</td>\n",
       "      <td>3.0</td>\n",
       "      <td>...</td>\n",
       "      <td>3.0</td>\n",
       "      <td>0</td>\n",
       "      <td>0</td>\n",
       "      <td>2</td>\n",
       "      <td>2</td>\n",
       "      <td>0</td>\n",
       "      <td>1</td>\n",
       "      <td>1</td>\n",
       "      <td>3</td>\n",
       "      <td>3</td>\n",
       "    </tr>\n",
       "    <tr>\n",
       "      <td>8</td>\n",
       "      <td>9</td>\n",
       "      <td>1</td>\n",
       "      <td>5</td>\n",
       "      <td>3</td>\n",
       "      <td>0</td>\n",
       "      <td>0</td>\n",
       "      <td>3</td>\n",
       "      <td>1</td>\n",
       "      <td>1</td>\n",
       "      <td>2.0</td>\n",
       "      <td>...</td>\n",
       "      <td>0.0</td>\n",
       "      <td>1</td>\n",
       "      <td>0</td>\n",
       "      <td>1</td>\n",
       "      <td>1</td>\n",
       "      <td>0</td>\n",
       "      <td>1</td>\n",
       "      <td>1</td>\n",
       "      <td>3</td>\n",
       "      <td>4</td>\n",
       "    </tr>\n",
       "    <tr>\n",
       "      <td>9</td>\n",
       "      <td>10</td>\n",
       "      <td>2</td>\n",
       "      <td>5</td>\n",
       "      <td>4</td>\n",
       "      <td>1</td>\n",
       "      <td>2</td>\n",
       "      <td>4</td>\n",
       "      <td>0</td>\n",
       "      <td>0</td>\n",
       "      <td>2.0</td>\n",
       "      <td>...</td>\n",
       "      <td>1.0</td>\n",
       "      <td>0</td>\n",
       "      <td>1</td>\n",
       "      <td>1</td>\n",
       "      <td>1</td>\n",
       "      <td>0</td>\n",
       "      <td>0</td>\n",
       "      <td>0</td>\n",
       "      <td>3</td>\n",
       "      <td>3</td>\n",
       "    </tr>\n",
       "    <tr>\n",
       "      <td>...</td>\n",
       "      <td>...</td>\n",
       "      <td>...</td>\n",
       "      <td>...</td>\n",
       "      <td>...</td>\n",
       "      <td>...</td>\n",
       "      <td>...</td>\n",
       "      <td>...</td>\n",
       "      <td>...</td>\n",
       "      <td>...</td>\n",
       "      <td>...</td>\n",
       "      <td>...</td>\n",
       "      <td>...</td>\n",
       "      <td>...</td>\n",
       "      <td>...</td>\n",
       "      <td>...</td>\n",
       "      <td>...</td>\n",
       "      <td>...</td>\n",
       "      <td>...</td>\n",
       "      <td>...</td>\n",
       "      <td>...</td>\n",
       "      <td>...</td>\n",
       "    </tr>\n",
       "    <tr>\n",
       "      <td>4399</td>\n",
       "      <td>4400</td>\n",
       "      <td>1</td>\n",
       "      <td>2</td>\n",
       "      <td>1</td>\n",
       "      <td>1</td>\n",
       "      <td>1</td>\n",
       "      <td>3</td>\n",
       "      <td>1</td>\n",
       "      <td>1</td>\n",
       "      <td>4.0</td>\n",
       "      <td>...</td>\n",
       "      <td>6.0</td>\n",
       "      <td>0</td>\n",
       "      <td>0</td>\n",
       "      <td>2</td>\n",
       "      <td>1</td>\n",
       "      <td>1</td>\n",
       "      <td>1</td>\n",
       "      <td>1</td>\n",
       "      <td>2</td>\n",
       "      <td>3</td>\n",
       "    </tr>\n",
       "    <tr>\n",
       "      <td>4403</td>\n",
       "      <td>4404</td>\n",
       "      <td>0</td>\n",
       "      <td>6</td>\n",
       "      <td>1</td>\n",
       "      <td>1</td>\n",
       "      <td>2</td>\n",
       "      <td>3</td>\n",
       "      <td>2</td>\n",
       "      <td>2</td>\n",
       "      <td>3.0</td>\n",
       "      <td>...</td>\n",
       "      <td>0.0</td>\n",
       "      <td>1</td>\n",
       "      <td>1</td>\n",
       "      <td>2</td>\n",
       "      <td>1</td>\n",
       "      <td>1</td>\n",
       "      <td>2</td>\n",
       "      <td>1</td>\n",
       "      <td>3</td>\n",
       "      <td>3</td>\n",
       "    </tr>\n",
       "    <tr>\n",
       "      <td>4404</td>\n",
       "      <td>4405</td>\n",
       "      <td>0</td>\n",
       "      <td>3</td>\n",
       "      <td>2</td>\n",
       "      <td>1</td>\n",
       "      <td>1</td>\n",
       "      <td>3</td>\n",
       "      <td>1</td>\n",
       "      <td>1</td>\n",
       "      <td>3.0</td>\n",
       "      <td>...</td>\n",
       "      <td>1.0</td>\n",
       "      <td>1</td>\n",
       "      <td>0</td>\n",
       "      <td>1</td>\n",
       "      <td>1</td>\n",
       "      <td>0</td>\n",
       "      <td>0</td>\n",
       "      <td>0</td>\n",
       "      <td>2</td>\n",
       "      <td>3</td>\n",
       "    </tr>\n",
       "    <tr>\n",
       "      <td>4407</td>\n",
       "      <td>4408</td>\n",
       "      <td>1</td>\n",
       "      <td>2</td>\n",
       "      <td>2</td>\n",
       "      <td>0</td>\n",
       "      <td>0</td>\n",
       "      <td>2</td>\n",
       "      <td>1</td>\n",
       "      <td>1</td>\n",
       "      <td>1.0</td>\n",
       "      <td>...</td>\n",
       "      <td>0.0</td>\n",
       "      <td>1</td>\n",
       "      <td>0</td>\n",
       "      <td>1</td>\n",
       "      <td>1</td>\n",
       "      <td>0</td>\n",
       "      <td>0</td>\n",
       "      <td>0</td>\n",
       "      <td>3</td>\n",
       "      <td>4</td>\n",
       "    </tr>\n",
       "    <tr>\n",
       "      <td>4408</td>\n",
       "      <td>4409</td>\n",
       "      <td>2</td>\n",
       "      <td>5</td>\n",
       "      <td>1</td>\n",
       "      <td>0</td>\n",
       "      <td>2</td>\n",
       "      <td>2</td>\n",
       "      <td>1</td>\n",
       "      <td>1</td>\n",
       "      <td>4.0</td>\n",
       "      <td>...</td>\n",
       "      <td>0.0</td>\n",
       "      <td>0</td>\n",
       "      <td>1</td>\n",
       "      <td>1</td>\n",
       "      <td>1</td>\n",
       "      <td>0</td>\n",
       "      <td>1</td>\n",
       "      <td>1</td>\n",
       "      <td>2</td>\n",
       "      <td>3</td>\n",
       "    </tr>\n",
       "  </tbody>\n",
       "</table>\n",
       "<p>2344 rows × 25 columns</p>\n",
       "</div>"
      ],
      "text/plain": [
       "      EmployeeID  MaritalStatus  JobRole  JobLevel  Gender  EducationField  \\\n",
       "1              2              0        1         1       1               0   \n",
       "3              4              1        3         3       0               0   \n",
       "5              6              1        4         4       1               0   \n",
       "8              9              1        5         3       0               0   \n",
       "9             10              2        5         4       1               2   \n",
       "...          ...            ...      ...       ...     ...             ...   \n",
       "4399        4400              1        2         1       1               1   \n",
       "4403        4404              0        6         1       1               2   \n",
       "4404        4405              0        3         2       1               1   \n",
       "4407        4408              1        2         2       0               0   \n",
       "4408        4409              2        5         1       0               2   \n",
       "\n",
       "      Education  Department  BusinessTravel  EnvironmentSatisfaction  ...  \\\n",
       "1             1           2               2                      3.0  ...   \n",
       "3             5           0               0                      4.0  ...   \n",
       "5             3           1               1                      3.0  ...   \n",
       "8             3           1               1                      2.0  ...   \n",
       "9             4           0               0                      2.0  ...   \n",
       "...         ...         ...             ...                      ...  ...   \n",
       "4399          3           1               1                      4.0  ...   \n",
       "4403          3           2               2                      3.0  ...   \n",
       "4404          3           1               1                      3.0  ...   \n",
       "4407          2           1               1                      1.0  ...   \n",
       "4408          2           1               1                      4.0  ...   \n",
       "\n",
       "      NumCompaniesWorked  PercentSalaryHike  StockOptionLevel  \\\n",
       "1                    0.0                  1                 1   \n",
       "3                    3.0                  0                 3   \n",
       "5                    3.0                  0                 0   \n",
       "8                    0.0                  1                 0   \n",
       "9                    1.0                  0                 1   \n",
       "...                  ...                ...               ...   \n",
       "4399                 6.0                  0                 0   \n",
       "4403                 0.0                  1                 1   \n",
       "4404                 1.0                  1                 0   \n",
       "4407                 0.0                  1                 0   \n",
       "4408                 0.0                  0                 1   \n",
       "\n",
       "      TotalWorkingYears  TrainingTimesLastYear  YearsAtCompany  \\\n",
       "1                     1                      1               0   \n",
       "3                     2                      2               0   \n",
       "5                     2                      2               0   \n",
       "8                     1                      1               0   \n",
       "9                     1                      1               0   \n",
       "...                 ...                    ...             ...   \n",
       "4399                  2                      1               1   \n",
       "4403                  2                      1               1   \n",
       "4404                  1                      1               0   \n",
       "4407                  1                      1               0   \n",
       "4408                  1                      1               0   \n",
       "\n",
       "      YearsSinceLastPromotion  YearsWithCurrManager  JobInvolvement  \\\n",
       "1                           0                     0               2   \n",
       "3                           1                     0               2   \n",
       "5                           1                     1               3   \n",
       "8                           1                     1               3   \n",
       "9                           0                     0               3   \n",
       "...                       ...                   ...             ...   \n",
       "4399                        1                     1               2   \n",
       "4403                        2                     1               3   \n",
       "4404                        0                     0               2   \n",
       "4407                        0                     0               3   \n",
       "4408                        1                     1               2   \n",
       "\n",
       "      PerformanceRating  \n",
       "1                     4  \n",
       "3                     3  \n",
       "5                     3  \n",
       "8                     4  \n",
       "9                     3  \n",
       "...                 ...  \n",
       "4399                  3  \n",
       "4403                  3  \n",
       "4404                  3  \n",
       "4407                  4  \n",
       "4408                  3  \n",
       "\n",
       "[2344 rows x 25 columns]"
      ]
     },
     "metadata": {},
     "output_type": "display_data"
    }
   ],
   "source": [
    "display(X)"
   ]
  },
  {
   "cell_type": "markdown",
   "metadata": {},
   "source": [
    "Mając już zbiór X i y dzielimy je na podzbiory: treningowy (na którym uczyć będziemy model), oraz testowy (który posłuży do oceny jakości modelu).  "
   ]
  },
  {
   "cell_type": "code",
   "execution_count": 53,
   "metadata": {},
   "outputs": [],
   "source": [
    "from sklearn.model_selection import train_test_split\n",
    "X_train, X_test, y_train, y_test = train_test_split(X, y, test_size = 0.3, random_state=3)"
   ]
  },
  {
   "cell_type": "markdown",
   "metadata": {},
   "source": [
    "## Zastosowanie regresji logistycznej i interpretacja wyników"
   ]
  },
  {
   "cell_type": "code",
   "execution_count": 57,
   "metadata": {},
   "outputs": [],
   "source": [
    "from sklearn.linear_model import LogisticRegression\n",
    "\n",
    "lr = LogisticRegression(solver=\"lbfgs\", max_iter=500)\n",
    "lr.fit(X_train,y_train)\n",
    "y_pred = lr.predict(X_test)"
   ]
  },
  {
   "cell_type": "markdown",
   "metadata": {},
   "source": [
    "## Testowanie jakości modelu"
   ]
  },
  {
   "cell_type": "code",
   "execution_count": 58,
   "metadata": {},
   "outputs": [
    {
     "name": "stdout",
     "output_type": "stream",
     "text": [
      "Współczynniki: \n",
      " [[-4.01751696e-05 -5.52035181e-01 -6.58713506e-02 -5.04518027e-02\n",
      "  -1.70709036e-02  7.33328656e-02 -8.24312517e-02  3.74236863e-01\n",
      "   3.74236863e-01 -3.22727603e-01 -2.86079429e-01 -2.34259514e-01\n",
      "  -5.12843824e-01  1.85401030e-01 -3.20055237e-01  1.68983500e-01\n",
      "   1.38889129e-02  1.47382768e-02 -4.45089802e-01 -2.82676082e-01\n",
      "  -6.54218228e-01  5.01675410e-01  2.89474017e-01  2.03216692e-03\n",
      "   3.19016272e-01]]\n",
      "Błąd średniokwadratowy: 0.12\n",
      "Metryka R2 (wariancji): -0.09\n"
     ]
    }
   ],
   "source": [
    "from sklearn.metrics import mean_squared_error, r2_score\n",
    "\n",
    "print('Współczynniki: \\n', lr.coef_)\n",
    "print(\"Błąd średniokwadratowy: %.2f\"\n",
    "      % mean_squared_error(y_test, y_pred))\n",
    "print('Metryka R2 (wariancji): %.2f' % r2_score(y_test, y_pred))"
   ]
  },
  {
   "cell_type": "markdown",
   "metadata": {},
   "source": [
    "## Oszacowanie jakości predykcji"
   ]
  },
  {
   "cell_type": "markdown",
   "metadata": {},
   "source": [
    "Mając określone zbiory uczące i walidujące można przystąpić to oszacowania najprostszego modelu regresji logistycznej. Jakość modelu można sprawdzić, korzystając z wskaźnika dobroci dopasowania i macierzy błędów, a także korzystając z krzywej ROC. Każda z tych trzech metod da nam nieco inny pogląd na jakość modelu.\n",
    "\n",
    "\n",
    "**Wskaźnik dobroci dopasowania** (ang. *accuracy score*) pozwoli ogólnie zorientować się co do jakości modelu. \n",
    "\n",
    "**Macierz błędów** (ang. *confusion matrix*) umożliwi zorientowanie się, czy w przypadku gdy model pomyli się, to jakiego typu będzie to błąd. Dwa podstawowe rodzaje błędów wykrywane w ten sposób to klasyfikacja fałszywie pozytywna (ang. *false positive*) i fałszywie negatywna (ang. *false negative*). Z naszego punktu widzenia różnica jest znacząca. W przypadku błędu *false positive*, model będzie miał tendencję do mylenia się (o ile oczywiście wskaźnik dobroci dopasowania będzie odpowiednio wysoki, np. 85-90%), oznaczając osobę jako kandydata do odejścia (gdzie pracownik nie miał zamiaru odejść). W takiej sytuacji, gdy zaczniemy dodatkowo zabiegać o utrzymanie tego pracownika, nie zaszkodzkodzi to zbytnio żadnej ze stron a jedynie może podnieść morale członka załogi, gdy ten poczuje się przez nas \"niechcący\" nieco bardziej \"dopieszczony\". Inaczej wygląda sytuacja, gdy model zignoruje \"objawy\", że pracownik nie jest zadowolony z obecnego pracodawcy - w takiej sytuacji jesteśmy narażeni na wymienione na początku tego dokumentu nieprzyjemności. \n",
    "\n",
    "Ostatnim wskaźnikiem jest **krzywa ROC**. Jest niejako graficzną reprezentacją macierzy błędów. Warto zwrócić uwagę na pole powierzchni pod krzywą (określane także jako Współczynnik Giniego). Współczynnik Giniego jest doskonałą miarą jakości modelu i może być interpretowany jako % „idealności” danego modelu predykcyjnego, co jest dla nas szczególnie istotne, biorąc pod uwagę, że model ma mieć zastosowanie nie tylko dla danych historycznych, ale też dla obserwacji w przyszłości.  "
   ]
  },
  {
   "cell_type": "code",
   "execution_count": 59,
   "metadata": {
    "scrolled": true
   },
   "outputs": [
    {
     "name": "stdout",
     "output_type": "stream",
     "text": [
      "Wskaźnik dobroci dopasowania: 0.88\n",
      "Macierz błędów:\n",
      " [[618   2]\n",
      " [ 79   5]]\n",
      "Krzywa ROC:\n",
      " (array([0.        , 0.00322581, 1.        ]), array([0.        , 0.05952381, 1.        ]), array([2, 1, 0]))\n"
     ]
    }
   ],
   "source": [
    "from sklearn.metrics import confusion_matrix, accuracy_score, roc_curve\n",
    "\n",
    "print(\"Wskaźnik dobroci dopasowania: %.2f\" % accuracy_score(y_test,y_pred))\n",
    "print(\"Macierz błędów:\\n\", confusion_matrix(y_test,y_pred))\n",
    "print(\"Krzywa ROC:\\n\", roc_curve(y_test,y_pred))"
   ]
  },
  {
   "cell_type": "markdown",
   "metadata": {},
   "source": [
    "Mając wartości liczbowe dla krzywej ROC, konieczna jest ich wizualiacja. W tym celu definiujemy funkcję \"plot_roc_curve\", przyjmująca jako argumenty wartość false_positive_rate i true_positive_rate, a więc procent danych zakwalifikowanych niepoprawnie i poprawnie.   "
   ]
  },
  {
   "cell_type": "code",
   "execution_count": 60,
   "metadata": {},
   "outputs": [],
   "source": [
    "def plot_roc_curve(fpr, tpr):\n",
    "    plt.plot(fpr, tpr, color='red', label='ROC')\n",
    "    plt.plot([0, 1], [0, 1], color='darkblue', linestyle='--')\n",
    "    plt.xlabel('False Positive Rate')\n",
    "    plt.ylabel('True Positive Rate')\n",
    "    plt.title('Receiver Operating Characteristic (ROC) Curve')\n",
    "    plt.legend()\n",
    "    plt.show()"
   ]
  },
  {
   "cell_type": "code",
   "execution_count": 61,
   "metadata": {},
   "outputs": [
    {
     "data": {
      "image/png": "[encoded data removed]",
      "text/plain": [
       "<Figure size 432x288 with 1 Axes>"
      ]
     },
     "metadata": {
      "needs_background": "light"
     },
     "output_type": "display_data"
    }
   ],
   "source": [
    "import pylab as plt\n",
    "fpr, tpr, thresholds = roc_curve(y_test,y_pred)\n",
    "plot_roc_curve(fpr, tpr)"
   ]
  },
  {
   "cell_type": "markdown",
   "metadata": {},
   "source": [
    "Otrzymany model jest źle dopasowany do danych. Wskazuje na to wskaźnik dobroci dopasowania (niższy niż w modelu losowym), a także macierz błędów. W tym drugim przypadku widać, że zarówno odsetek obserwacji sklasyfikowanych jako False Positive jak i False Negative przywyższa liczbę obserwacji sklasyfikowanych poprawnie."
   ]
  },
  {
   "cell_type": "markdown",
   "metadata": {},
   "source": [
    "## Optymalizacja progu odcięcia"
   ]
  },
  {
   "cell_type": "markdown",
   "metadata": {},
   "source": [
    "Indeks Youdena odnosi się bezpośrednio do czułości i swoistości i określa optymalny punkt przecięcia. Jest bardziej czytelny niż pole powierzchni pod krzywą ROC, ponieważ nie tylko obrazuje dokładność testu, ale również zapewnia najlepsze wartości sumy czułości i swoistości. \n",
    "\n",
    "Indeks ten dotyczy danych binarnych (dla dwóch grup) i jest definiowany jako:\n",
    " ***J(t) = czułość + specyficzność - 1*** \n",
    " \n",
    " lub inaczej \n",
    "\n",
    " ***J(t) = TPR + TNR - 1***"
   ]
  },
  {
   "cell_type": "code",
   "execution_count": 62,
   "metadata": {},
   "outputs": [
    {
     "name": "stdout",
     "output_type": "stream",
     "text": [
      "Wartość indeksu Youndena: 0.056\n"
     ]
    }
   ],
   "source": [
    "def cutoff_youdens_j(y_test, y_pred):\n",
    "    tn, fp, fn, tp = confusion_matrix(y_test,y_pred).ravel()\n",
    "    # convering int to float\n",
    "    tn, fp, fn, tp = float(tn), float(fp), float(fn), float(tp)\n",
    "    sensitivity = (tp/(tp+fn))\n",
    "    specificity = (tn/(tn+fp))\n",
    "    j = (sensitivity + specificity) - 1\n",
    "    return j\n",
    "    \n",
    "jt = cutoff_youdens_j(y_test, y_pred)\n",
    "print(\"Wartość indeksu Youndena: %.3f\" % jt)"
   ]
  },
  {
   "cell_type": "markdown",
   "metadata": {},
   "source": [
    "Indeks Youndena przyjmuje wartości z zakresu między 0 a 1. Idealny model przyjmuje wartość 1. Ponieważ obecny model ma wartość 0, oznacza to, że jest on kiepskiej jakości. "
   ]
  },
  {
   "cell_type": "markdown",
   "metadata": {},
   "source": [
    "## Model Regresji Krzyżowej \n",
    "Zanim porzucimy model Regresji Logistycznej jako nieodpowiedni dla naszego problemu, zastosujemy go raz jeszcze. Tym razem jednak najpierw usuniemy zmienne nieistotne statystycznie, a następnie zastosujemy raz jeszcze regresję logistyczną, tym razem uzupełnioną o walidacje krzyżową (LogisticRegressionCV)."
   ]
  },
  {
   "cell_type": "markdown",
   "metadata": {},
   "source": [
    "### Recursive Features Elimination\n",
    "Metoda RFE (ang. *Recursive Feature Elimination*) rekurencyjnie usuwa zmienne, a następnie z tych, które pozostały, tworzy model. Wykorzystuje ona wskaźnik dobroci dopasowania (ang. *accuracy metric*) do uporządkowania zmienych w kolejności od najbardziej istotnych do najmniej. Metoda RFE przyjmuje model, dla którego ma dopasować zmienne oraz docelową liczbę zmiennych. Jako wyjście otrzymujemy ranking zmiennych, gdzie przez 1 oznacza się zmienną najbardziej istotną statystycznie. \n",
    "\n",
    "W pierwszym kroku uruchamiamy model dla losowej liczby docelowych zmiennych."
   ]
  },
  {
   "cell_type": "code",
   "execution_count": 64,
   "metadata": {},
   "outputs": [
    {
     "name": "stdout",
     "output_type": "stream",
     "text": [
      "[False  True False False False False False False  True False False False\n",
      "  True False  True False False False False False  True  True False False\n",
      "  True]\n",
      "[19  1 14 18 15 11 12  2  1  4  5  7  1  6  1 10 16 17  9  3  1  1  8 13\n",
      "  1]\n"
     ]
    }
   ],
   "source": [
    "from sklearn.feature_selection import RFE\n",
    "model = LogisticRegression(solver=\"lbfgs\", max_iter=500)\n",
    "\n",
    "#Initializing RFE model\n",
    "rfe = RFE(model, 7)\n",
    "#Transforming data using RFE\n",
    "X_rfe = rfe.fit_transform(X,y)  \n",
    "#Fitting the data to model\n",
    "model.fit(X_rfe,y)\n",
    "print(rfe.support_)\n",
    "print(rfe.ranking_)"
   ]
  },
  {
   "cell_type": "markdown",
   "metadata": {},
   "source": [
    "W powyższy model oszacowano dla siedmiu najlepszych zmiennych. Aby otrzymać ich optymalną liczbę, sprawdzimy wynik testu dobroci dopasowania dla wszystkich możliwych kombinacji i wybierzemy optymalną liczbę. "
   ]
  },
  {
   "cell_type": "code",
   "execution_count": 70,
   "metadata": {
    "scrolled": true
   },
   "outputs": [
    {
     "name": "stdout",
     "output_type": "stream",
     "text": [
      "Optymalna liczba zmiennych: 19\n",
      "Wynik dla 19 zmiennych: 0.867898\n",
      "Wyniki dla poszczególnych zmiennych:\n",
      " [0.8650568181818182, 0.8650568181818182, 0.8650568181818182, 0.8650568181818182, 0.8650568181818182, 0.8650568181818182, 0.8650568181818182, 0.8622159090909091, 0.8607954545454546, 0.859375, 0.8650568181818182, 0.8650568181818182, 0.8664772727272727, 0.8664772727272727, 0.8636363636363636, 0.8607954545454546, 0.8607954545454546, 0.8636363636363636, 0.8678977272727273, 0.8636363636363636, 0.8678977272727273, 0.8678977272727273, 0.8678977272727273, 0.8678977272727273]\n"
     ]
    }
   ],
   "source": [
    "#no of variables\n",
    "nof_list=np.arange(1,len(X.columns))            \n",
    "high_score=0\n",
    "#Variable to store the optimum features\n",
    "nof=0           \n",
    "score_list =[]\n",
    "for n in range(len(nof_list)):\n",
    "    X_train, X_test, y_train, y_test = train_test_split(X,y, test_size = 0.3, random_state = 0)\n",
    "    model = LogisticRegression(solver=\"lbfgs\", max_iter=500)\n",
    "    rfe = RFE(model,nof_list[n])\n",
    "    X_train_rfe = rfe.fit_transform(X_train,y_train)\n",
    "    X_test_rfe = rfe.transform(X_test)\n",
    "    model.fit(X_train_rfe,y_train)\n",
    "    score = model.score(X_test_rfe,y_test)\n",
    "    score_list.append(score)\n",
    "    if(score>high_score):\n",
    "        high_score = score\n",
    "        nof = nof_list[n]\n",
    "print(\"Optymalna liczba zmiennych: %d\" %nof)\n",
    "print(\"Wynik dla %d zmiennych: %f\" % (nof, high_score))\n",
    "print(\"Wyniki dla poszczególnych zmiennych:\\n\", score_list)"
   ]
  },
  {
   "cell_type": "markdown",
   "metadata": {},
   "source": [
    "Jak widzimy, optymalna liczba zmiennych wynosi 19, natomiast pomiędzy wynikami dla każdej liczby zmiennych nie mia większej różnicy, jeśli chodzi o jakość modelu. Z drugiej strony większa ilość może sprawić, że model będzie zbyt dopasowany do istniejących danych, dlatego docelowo weźmiemy tylko 5 z nich.  "
   ]
  },
  {
   "cell_type": "code",
   "execution_count": 71,
   "metadata": {},
   "outputs": [
    {
     "name": "stdout",
     "output_type": "stream",
     "text": [
      "Index(['MaritalStatus', 'Department', 'BusinessTravel', 'Age',\n",
      "       'MonthlyIncome'],\n",
      "      dtype='object')\n"
     ]
    }
   ],
   "source": [
    "from sklearn.linear_model import LogisticRegressionCV\n",
    "cols = list(X.columns)\n",
    "model = LogisticRegressionCV(solver=\"lbfgs\", cv=5, max_iter=500)\n",
    "#Initializing RFE model\n",
    "rfe = RFE(model, 5)             \n",
    "#Transforming data using RFE\n",
    "X_rfe = rfe.fit_transform(X,y)  \n",
    "#Fitting the data to model\n",
    "model.fit(X_rfe,y)              \n",
    "temp = pd.Series(rfe.support_,index = cols)\n",
    "selected_features_rfe = temp[temp==True].index\n",
    "print(selected_features_rfe)"
   ]
  },
  {
   "cell_type": "code",
   "execution_count": 72,
   "metadata": {},
   "outputs": [
    {
     "data": {
      "text/html": [
       "<div>\n",
       "<style scoped>\n",
       "    .dataframe tbody tr th:only-of-type {\n",
       "        vertical-align: middle;\n",
       "    }\n",
       "\n",
       "    .dataframe tbody tr th {\n",
       "        vertical-align: top;\n",
       "    }\n",
       "\n",
       "    .dataframe thead th {\n",
       "        text-align: right;\n",
       "    }\n",
       "</style>\n",
       "<table border=\"1\" class=\"dataframe\">\n",
       "  <thead>\n",
       "    <tr style=\"text-align: right;\">\n",
       "      <th></th>\n",
       "      <th>MaritalStatus</th>\n",
       "      <th>Department</th>\n",
       "      <th>BusinessTravel</th>\n",
       "      <th>Age</th>\n",
       "      <th>MonthlyIncome</th>\n",
       "    </tr>\n",
       "  </thead>\n",
       "  <tbody>\n",
       "    <tr>\n",
       "      <td>1</td>\n",
       "      <td>0</td>\n",
       "      <td>2</td>\n",
       "      <td>2</td>\n",
       "      <td>0</td>\n",
       "      <td>0</td>\n",
       "    </tr>\n",
       "    <tr>\n",
       "      <td>3</td>\n",
       "      <td>1</td>\n",
       "      <td>0</td>\n",
       "      <td>0</td>\n",
       "      <td>1</td>\n",
       "      <td>1</td>\n",
       "    </tr>\n",
       "    <tr>\n",
       "      <td>5</td>\n",
       "      <td>1</td>\n",
       "      <td>1</td>\n",
       "      <td>1</td>\n",
       "      <td>1</td>\n",
       "      <td>0</td>\n",
       "    </tr>\n",
       "    <tr>\n",
       "      <td>8</td>\n",
       "      <td>1</td>\n",
       "      <td>1</td>\n",
       "      <td>1</td>\n",
       "      <td>0</td>\n",
       "      <td>0</td>\n",
       "    </tr>\n",
       "    <tr>\n",
       "      <td>9</td>\n",
       "      <td>2</td>\n",
       "      <td>0</td>\n",
       "      <td>0</td>\n",
       "      <td>0</td>\n",
       "      <td>1</td>\n",
       "    </tr>\n",
       "    <tr>\n",
       "      <td>...</td>\n",
       "      <td>...</td>\n",
       "      <td>...</td>\n",
       "      <td>...</td>\n",
       "      <td>...</td>\n",
       "      <td>...</td>\n",
       "    </tr>\n",
       "    <tr>\n",
       "      <td>4399</td>\n",
       "      <td>1</td>\n",
       "      <td>1</td>\n",
       "      <td>1</td>\n",
       "      <td>1</td>\n",
       "      <td>2</td>\n",
       "    </tr>\n",
       "    <tr>\n",
       "      <td>4403</td>\n",
       "      <td>0</td>\n",
       "      <td>2</td>\n",
       "      <td>2</td>\n",
       "      <td>1</td>\n",
       "      <td>1</td>\n",
       "    </tr>\n",
       "    <tr>\n",
       "      <td>4404</td>\n",
       "      <td>0</td>\n",
       "      <td>1</td>\n",
       "      <td>1</td>\n",
       "      <td>0</td>\n",
       "      <td>0</td>\n",
       "    </tr>\n",
       "    <tr>\n",
       "      <td>4407</td>\n",
       "      <td>1</td>\n",
       "      <td>1</td>\n",
       "      <td>1</td>\n",
       "      <td>0</td>\n",
       "      <td>0</td>\n",
       "    </tr>\n",
       "    <tr>\n",
       "      <td>4408</td>\n",
       "      <td>2</td>\n",
       "      <td>1</td>\n",
       "      <td>1</td>\n",
       "      <td>1</td>\n",
       "      <td>0</td>\n",
       "    </tr>\n",
       "  </tbody>\n",
       "</table>\n",
       "<p>2344 rows × 5 columns</p>\n",
       "</div>"
      ],
      "text/plain": [
       "      MaritalStatus  Department  BusinessTravel  Age  MonthlyIncome\n",
       "1                 0           2               2    0              0\n",
       "3                 1           0               0    1              1\n",
       "5                 1           1               1    1              0\n",
       "8                 1           1               1    0              0\n",
       "9                 2           0               0    0              1\n",
       "...             ...         ...             ...  ...            ...\n",
       "4399              1           1               1    1              2\n",
       "4403              0           2               2    1              1\n",
       "4404              0           1               1    0              0\n",
       "4407              1           1               1    0              0\n",
       "4408              2           1               1    1              0\n",
       "\n",
       "[2344 rows x 5 columns]"
      ]
     },
     "metadata": {},
     "output_type": "display_data"
    }
   ],
   "source": [
    "X_selected = X[selected_features_rfe]\n",
    "display(X_selected)"
   ]
  },
  {
   "cell_type": "markdown",
   "metadata": {},
   "source": [
    "### LogisticRegressionCV"
   ]
  },
  {
   "cell_type": "code",
   "execution_count": 90,
   "metadata": {},
   "outputs": [
    {
     "name": "stdout",
     "output_type": "stream",
     "text": [
      "Wskaźnik dobroci dopasowania: 0.88\n",
      "Macierz błędów:\n",
      " [[618   2]\n",
      " [ 79   5]]\n",
      "Krzywa ROC:\n",
      " (array([0.        , 0.00322581, 1.        ]), array([0.        , 0.05952381, 1.        ]), array([2, 1, 0]))\n",
      "Wartość indeksu Youndena: 0.056\n"
     ]
    },
    {
     "data": {
      "image/png": "[encoded data removed]",
      "text/plain": [
       "<Figure size 432x288 with 1 Axes>"
      ]
     },
     "metadata": {
      "needs_background": "light"
     },
     "output_type": "display_data"
    }
   ],
   "source": [
    "from sklearn.linear_model import LogisticRegressionCV\n",
    "\n",
    "X_train, X_test, y_train, y_test = train_test_split(X_selected, y, test_size = 0.3, random_state=3)\n",
    "\n",
    "lrcv = LogisticRegressionCV(solver=\"lbfgs\", cv=5, max_iter=500)\n",
    "lrcv.fit(X_train, y_train)\n",
    "y_selected_pred = lrcv.predict(X_test)\n",
    "\n",
    "j_t = cutoff_youdens_j(y_test, y_pred)\n",
    "\n",
    "print(\"Wskaźnik dobroci dopasowania: %.2f\" % accuracy_score(y_test,y_pred))\n",
    "print(\"Macierz błędów:\\n\", confusion_matrix(y_test,y_pred))\n",
    "print(\"Krzywa ROC:\\n\", roc_curve(y_test,y_pred))\n",
    "print(\"Wartość indeksu Youndena: %.3f\" %  cutoff_youdens_j(y_test,y_pred))\n",
    "\n",
    "fpr, tpr, thresholds = roc_curve(y_test,y_pred)\n",
    "plot_roc_curve(fpr, tpr)"
   ]
  },
  {
   "cell_type": "markdown",
   "metadata": {},
   "source": [
    "## Model Lasu losowego dla wszystkich zmiennych\n"
   ]
  },
  {
   "cell_type": "code",
   "execution_count": 102,
   "metadata": {},
   "outputs": [
    {
     "name": "stdout",
     "output_type": "stream",
     "text": [
      "Max value: 0.768\n",
      "Best number of estimators: 80.000\n"
     ]
    },
    {
     "data": {
      "image/png": "[encoded data removed]",
      "text/plain": [
       "<Figure size 432x288 with 1 Axes>"
      ]
     },
     "metadata": {
      "needs_background": "light"
     },
     "output_type": "display_data"
    }
   ],
   "source": [
    "from sklearn.ensemble import RandomForestRegressor\n",
    "X_train, X_test, y_train, y_test = train_test_split(X, y, test_size = 0.3, random_state=3)\n",
    "\n",
    "model = RandomForestRegressor(n_jobs=-1)\n",
    "estimators = np.arange(10, 250, 5)\n",
    "scores = []\n",
    "max_score = 0\n",
    "max_n = 0\n",
    "for n in estimators:\n",
    "    model.set_params(n_estimators=n)\n",
    "    model.fit(X_train, y_train)\n",
    "    score = model.score(X_test, y_test)\n",
    "    scores.append(score)\n",
    "    if score > max_score:\n",
    "        max_score = score\n",
    "        max_n = n \n",
    "plt.title(\"Effect of n_estimators\")\n",
    "plt.xlabel(\"n_estimator\")\n",
    "plt.ylabel(\"score\")\n",
    "plt.plot(estimators, scores)\n",
    "print(\"Max value: %.3f\" % max_score)\n",
    "print(\"Best number of estimators: %.3f\" % max_n)"
   ]
  },
  {
   "cell_type": "code",
   "execution_count": 96,
   "metadata": {},
   "outputs": [
    {
     "name": "stdout",
     "output_type": "stream",
     "text": [
      "[0.0619241  0.04894816 0.07418926 0.04683021 0.01705684 0.0628224\n",
      " 0.05673053 0.02198764 0.02126144 0.05567397 0.07139754 0.06197073\n",
      " 0.0448817  0.03461791 0.02544847 0.07987334 0.0187428  0.04105427\n",
      " 0.02544004 0.01346171 0.01206728 0.0286648  0.01550634 0.03894627\n",
      " 0.02050224]\n",
      "(array([], dtype=int64),)\n",
      "EnvironmentSatisfaction\n"
     ]
    }
   ],
   "source": [
    "random_forrest = RandomForestRegressor()"
   ]
  },
  {
   "cell_type": "markdown",
   "metadata": {},
   "source": [
    "## Model Lasu losowego dla wybranych zmiennych"
   ]
  },
  {
   "cell_type": "code",
   "execution_count": 101,
   "metadata": {},
   "outputs": [
    {
     "name": "stdout",
     "output_type": "stream",
     "text": [
      "0.07380618489221358\n"
     ]
    },
    {
     "data": {
      "image/png": "[encoded data removed]",
      "text/plain": [
       "<Figure size 432x288 with 1 Axes>"
      ]
     },
     "metadata": {
      "needs_background": "light"
     },
     "output_type": "display_data"
    }
   ],
   "source": [
    "X_train, X_test, y_train, y_test = train_test_split(X_selected, y, test_size = 0.3, random_state=3)\n",
    "\n",
    "estimators = np.arange(10, 250, 5)\n",
    "scores = []\n",
    "for n in estimators:\n",
    "    model.set_params(n_estimators=n)\n",
    "    model.fit(X_train, y_train)\n",
    "    scores.append(model.score(X_test, y_test))\n",
    "plt.title(\"Effect of n_estimators\")\n",
    "plt.xlabel(\"n_estimator\")\n",
    "plt.ylabel(\"score\")\n",
    "plt.plot(estimators, scores)\n",
    "print(max(scores))"
   ]
  },
  {
   "cell_type": "code",
   "execution_count": null,
   "metadata": {},
   "outputs": [],
   "source": []
  }
 ],
 "metadata": {
  "kernelspec": {
   "display_name": "Python 3",
   "language": "python",
   "name": "python3"
  },
  "language_info": {
   "codemirror_mode": {
    "name": "ipython",
    "version": 3
   },
   "file_extension": ".py",
   "mimetype": "text/x-python",
   "name": "python",
   "nbconvert_exporter": "python",
   "pygments_lexer": "ipython3",
   "version": "3.7.4"
  }
 },
 "nbformat": 4,
 "nbformat_minor": 2
}
